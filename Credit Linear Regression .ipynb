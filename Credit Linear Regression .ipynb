{
 "cells": [
  {
   "cell_type": "markdown",
   "id": "bedd98ad",
   "metadata": {},
   "source": [
    "#                              LoanTap Linear Regression Model to predict Balance  "
   ]
  },
  {
   "cell_type": "markdown",
   "id": "4e558bc5",
   "metadata": {},
   "source": [
    "## Problem Statement \n",
    "### LoanTap aims to leverage a dataset comprising diverse customer attributes to develop a robust predictive model capable of accurately determining the credit rating of customers."
   ]
  },
  {
   "cell_type": "code",
   "execution_count": 276,
   "id": "c0d8a3d3",
   "metadata": {},
   "outputs": [],
   "source": [
    "import numpy as np\n",
    "import pandas as pd\n",
    "import matplotlib.pyplot as plt\n",
    "import seaborn as sns\n",
    "\n",
    "import warnings\n",
    "warnings.filterwarnings(\"ignore\")"
   ]
  },
  {
   "cell_type": "code",
   "execution_count": 155,
   "id": "6b7e5afc",
   "metadata": {},
   "outputs": [
    {
     "data": {
      "text/html": [
       "<div>\n",
       "<style scoped>\n",
       "    .dataframe tbody tr th:only-of-type {\n",
       "        vertical-align: middle;\n",
       "    }\n",
       "\n",
       "    .dataframe tbody tr th {\n",
       "        vertical-align: top;\n",
       "    }\n",
       "\n",
       "    .dataframe thead th {\n",
       "        text-align: right;\n",
       "    }\n",
       "</style>\n",
       "<table border=\"1\" class=\"dataframe\">\n",
       "  <thead>\n",
       "    <tr style=\"text-align: right;\">\n",
       "      <th></th>\n",
       "      <th>Unnamed: 0</th>\n",
       "      <th>Income</th>\n",
       "      <th>Limit</th>\n",
       "      <th>Rating</th>\n",
       "      <th>Cards</th>\n",
       "      <th>Age</th>\n",
       "      <th>Education</th>\n",
       "      <th>Gender</th>\n",
       "      <th>Student</th>\n",
       "      <th>Married</th>\n",
       "      <th>Ethnicity</th>\n",
       "      <th>Balance</th>\n",
       "    </tr>\n",
       "  </thead>\n",
       "  <tbody>\n",
       "    <tr>\n",
       "      <th>124</th>\n",
       "      <td>125</td>\n",
       "      <td>29.564</td>\n",
       "      <td>2529</td>\n",
       "      <td>192</td>\n",
       "      <td>1</td>\n",
       "      <td>30</td>\n",
       "      <td>12</td>\n",
       "      <td>Female</td>\n",
       "      <td>No</td>\n",
       "      <td>Yes</td>\n",
       "      <td>Caucasian</td>\n",
       "      <td>0</td>\n",
       "    </tr>\n",
       "    <tr>\n",
       "      <th>173</th>\n",
       "      <td>174</td>\n",
       "      <td>14.887</td>\n",
       "      <td>4745</td>\n",
       "      <td>339</td>\n",
       "      <td>3</td>\n",
       "      <td>58</td>\n",
       "      <td>12</td>\n",
       "      <td>Male</td>\n",
       "      <td>No</td>\n",
       "      <td>Yes</td>\n",
       "      <td>African American</td>\n",
       "      <td>724</td>\n",
       "    </tr>\n",
       "    <tr>\n",
       "      <th>334</th>\n",
       "      <td>335</td>\n",
       "      <td>24.230</td>\n",
       "      <td>4756</td>\n",
       "      <td>351</td>\n",
       "      <td>2</td>\n",
       "      <td>64</td>\n",
       "      <td>15</td>\n",
       "      <td>Female</td>\n",
       "      <td>No</td>\n",
       "      <td>Yes</td>\n",
       "      <td>Caucasian</td>\n",
       "      <td>594</td>\n",
       "    </tr>\n",
       "    <tr>\n",
       "      <th>174</th>\n",
       "      <td>175</td>\n",
       "      <td>121.834</td>\n",
       "      <td>10673</td>\n",
       "      <td>750</td>\n",
       "      <td>3</td>\n",
       "      <td>54</td>\n",
       "      <td>16</td>\n",
       "      <td>Male</td>\n",
       "      <td>No</td>\n",
       "      <td>No</td>\n",
       "      <td>African American</td>\n",
       "      <td>1573</td>\n",
       "    </tr>\n",
       "    <tr>\n",
       "      <th>145</th>\n",
       "      <td>146</td>\n",
       "      <td>19.529</td>\n",
       "      <td>4673</td>\n",
       "      <td>341</td>\n",
       "      <td>2</td>\n",
       "      <td>51</td>\n",
       "      <td>14</td>\n",
       "      <td>Male</td>\n",
       "      <td>No</td>\n",
       "      <td>No</td>\n",
       "      <td>Asian</td>\n",
       "      <td>642</td>\n",
       "    </tr>\n",
       "  </tbody>\n",
       "</table>\n",
       "</div>"
      ],
      "text/plain": [
       "     Unnamed: 0   Income  Limit  Rating  Cards  Age  Education  Gender  \\\n",
       "124         125   29.564   2529     192      1   30         12  Female   \n",
       "173         174   14.887   4745     339      3   58         12    Male   \n",
       "334         335   24.230   4756     351      2   64         15  Female   \n",
       "174         175  121.834  10673     750      3   54         16    Male   \n",
       "145         146   19.529   4673     341      2   51         14    Male   \n",
       "\n",
       "    Student Married         Ethnicity  Balance  \n",
       "124      No     Yes         Caucasian        0  \n",
       "173      No     Yes  African American      724  \n",
       "334      No     Yes         Caucasian      594  \n",
       "174      No      No  African American     1573  \n",
       "145      No      No             Asian      642  "
      ]
     },
     "execution_count": 155,
     "metadata": {},
     "output_type": "execute_result"
    }
   ],
   "source": [
    "df = pd.read_csv('Credit.csv')\n",
    "df.sample(5)"
   ]
  },
  {
   "cell_type": "markdown",
   "id": "c6a14632",
   "metadata": {},
   "source": [
    "## Column Profiling \n",
    "Income: The income of the individual.\n",
    "\n",
    "Limit: The credit limit assigned to the individual.\n",
    "\n",
    "Rating: The credit rating of the individual.\n",
    "\n",
    "Cards: The number of credit cards held by the individual.\n",
    "\n",
    "Age: The age of the individual.\n",
    "\n",
    "Education: The level of education of the individual.\n",
    "\n",
    "Gender: The gender of the individual.\n",
    "\n",
    "Student: Whether the individual is a student or not.\n",
    "\n",
    "Married: Whether the individual is married or not.\n",
    "\n",
    "Ethnicity: The ethnicity of the individual.\n",
    "\n",
    "Balance: The balance (amount owed) on the individual's credit card."
   ]
  },
  {
   "cell_type": "code",
   "execution_count": 156,
   "id": "22f3a79b",
   "metadata": {},
   "outputs": [
    {
     "data": {
      "text/plain": [
       "(400, 12)"
      ]
     },
     "execution_count": 156,
     "metadata": {},
     "output_type": "execute_result"
    }
   ],
   "source": [
    "df.shape"
   ]
  },
  {
   "cell_type": "code",
   "execution_count": 157,
   "id": "7e2d4da1",
   "metadata": {},
   "outputs": [
    {
     "name": "stdout",
     "output_type": "stream",
     "text": [
      "<class 'pandas.core.frame.DataFrame'>\n",
      "RangeIndex: 400 entries, 0 to 399\n",
      "Data columns (total 12 columns):\n",
      " #   Column      Non-Null Count  Dtype  \n",
      "---  ------      --------------  -----  \n",
      " 0   Unnamed: 0  400 non-null    int64  \n",
      " 1   Income      400 non-null    float64\n",
      " 2   Limit       400 non-null    int64  \n",
      " 3   Rating      400 non-null    int64  \n",
      " 4   Cards       400 non-null    int64  \n",
      " 5   Age         400 non-null    int64  \n",
      " 6   Education   400 non-null    int64  \n",
      " 7   Gender      400 non-null    object \n",
      " 8   Student     400 non-null    object \n",
      " 9   Married     400 non-null    object \n",
      " 10  Ethnicity   400 non-null    object \n",
      " 11  Balance     400 non-null    int64  \n",
      "dtypes: float64(1), int64(7), object(4)\n",
      "memory usage: 37.6+ KB\n"
     ]
    }
   ],
   "source": [
    "df.info()"
   ]
  },
  {
   "cell_type": "code",
   "execution_count": 158,
   "id": "545fdf72",
   "metadata": {},
   "outputs": [
    {
     "data": {
      "text/html": [
       "<div>\n",
       "<style scoped>\n",
       "    .dataframe tbody tr th:only-of-type {\n",
       "        vertical-align: middle;\n",
       "    }\n",
       "\n",
       "    .dataframe tbody tr th {\n",
       "        vertical-align: top;\n",
       "    }\n",
       "\n",
       "    .dataframe thead th {\n",
       "        text-align: right;\n",
       "    }\n",
       "</style>\n",
       "<table border=\"1\" class=\"dataframe\">\n",
       "  <thead>\n",
       "    <tr style=\"text-align: right;\">\n",
       "      <th></th>\n",
       "      <th>Unnamed: 0</th>\n",
       "      <th>Income</th>\n",
       "      <th>Limit</th>\n",
       "      <th>Rating</th>\n",
       "      <th>Cards</th>\n",
       "      <th>Age</th>\n",
       "      <th>Education</th>\n",
       "      <th>Balance</th>\n",
       "    </tr>\n",
       "  </thead>\n",
       "  <tbody>\n",
       "    <tr>\n",
       "      <th>count</th>\n",
       "      <td>400.000000</td>\n",
       "      <td>400.000000</td>\n",
       "      <td>400.000000</td>\n",
       "      <td>400.000000</td>\n",
       "      <td>400.000000</td>\n",
       "      <td>400.000000</td>\n",
       "      <td>400.000000</td>\n",
       "      <td>400.000000</td>\n",
       "    </tr>\n",
       "    <tr>\n",
       "      <th>mean</th>\n",
       "      <td>200.500000</td>\n",
       "      <td>45.218885</td>\n",
       "      <td>4735.600000</td>\n",
       "      <td>354.940000</td>\n",
       "      <td>2.957500</td>\n",
       "      <td>55.667500</td>\n",
       "      <td>13.450000</td>\n",
       "      <td>520.015000</td>\n",
       "    </tr>\n",
       "    <tr>\n",
       "      <th>std</th>\n",
       "      <td>115.614301</td>\n",
       "      <td>35.244273</td>\n",
       "      <td>2308.198848</td>\n",
       "      <td>154.724143</td>\n",
       "      <td>1.371275</td>\n",
       "      <td>17.249807</td>\n",
       "      <td>3.125207</td>\n",
       "      <td>459.758877</td>\n",
       "    </tr>\n",
       "    <tr>\n",
       "      <th>min</th>\n",
       "      <td>1.000000</td>\n",
       "      <td>10.354000</td>\n",
       "      <td>855.000000</td>\n",
       "      <td>93.000000</td>\n",
       "      <td>1.000000</td>\n",
       "      <td>23.000000</td>\n",
       "      <td>5.000000</td>\n",
       "      <td>0.000000</td>\n",
       "    </tr>\n",
       "    <tr>\n",
       "      <th>25%</th>\n",
       "      <td>100.750000</td>\n",
       "      <td>21.007250</td>\n",
       "      <td>3088.000000</td>\n",
       "      <td>247.250000</td>\n",
       "      <td>2.000000</td>\n",
       "      <td>41.750000</td>\n",
       "      <td>11.000000</td>\n",
       "      <td>68.750000</td>\n",
       "    </tr>\n",
       "    <tr>\n",
       "      <th>50%</th>\n",
       "      <td>200.500000</td>\n",
       "      <td>33.115500</td>\n",
       "      <td>4622.500000</td>\n",
       "      <td>344.000000</td>\n",
       "      <td>3.000000</td>\n",
       "      <td>56.000000</td>\n",
       "      <td>14.000000</td>\n",
       "      <td>459.500000</td>\n",
       "    </tr>\n",
       "    <tr>\n",
       "      <th>75%</th>\n",
       "      <td>300.250000</td>\n",
       "      <td>57.470750</td>\n",
       "      <td>5872.750000</td>\n",
       "      <td>437.250000</td>\n",
       "      <td>4.000000</td>\n",
       "      <td>70.000000</td>\n",
       "      <td>16.000000</td>\n",
       "      <td>863.000000</td>\n",
       "    </tr>\n",
       "    <tr>\n",
       "      <th>max</th>\n",
       "      <td>400.000000</td>\n",
       "      <td>186.634000</td>\n",
       "      <td>13913.000000</td>\n",
       "      <td>982.000000</td>\n",
       "      <td>9.000000</td>\n",
       "      <td>98.000000</td>\n",
       "      <td>20.000000</td>\n",
       "      <td>1999.000000</td>\n",
       "    </tr>\n",
       "  </tbody>\n",
       "</table>\n",
       "</div>"
      ],
      "text/plain": [
       "       Unnamed: 0      Income         Limit      Rating       Cards  \\\n",
       "count  400.000000  400.000000    400.000000  400.000000  400.000000   \n",
       "mean   200.500000   45.218885   4735.600000  354.940000    2.957500   \n",
       "std    115.614301   35.244273   2308.198848  154.724143    1.371275   \n",
       "min      1.000000   10.354000    855.000000   93.000000    1.000000   \n",
       "25%    100.750000   21.007250   3088.000000  247.250000    2.000000   \n",
       "50%    200.500000   33.115500   4622.500000  344.000000    3.000000   \n",
       "75%    300.250000   57.470750   5872.750000  437.250000    4.000000   \n",
       "max    400.000000  186.634000  13913.000000  982.000000    9.000000   \n",
       "\n",
       "              Age   Education      Balance  \n",
       "count  400.000000  400.000000   400.000000  \n",
       "mean    55.667500   13.450000   520.015000  \n",
       "std     17.249807    3.125207   459.758877  \n",
       "min     23.000000    5.000000     0.000000  \n",
       "25%     41.750000   11.000000    68.750000  \n",
       "50%     56.000000   14.000000   459.500000  \n",
       "75%     70.000000   16.000000   863.000000  \n",
       "max     98.000000   20.000000  1999.000000  "
      ]
     },
     "execution_count": 158,
     "metadata": {},
     "output_type": "execute_result"
    }
   ],
   "source": [
    "df.describe()"
   ]
  },
  {
   "cell_type": "code",
   "execution_count": 159,
   "id": "3a8020df",
   "metadata": {},
   "outputs": [
    {
     "data": {
      "text/plain": [
       "Unnamed: 0    0\n",
       "Income        0\n",
       "Limit         0\n",
       "Rating        0\n",
       "Cards         0\n",
       "Age           0\n",
       "Education     0\n",
       "Gender        0\n",
       "Student       0\n",
       "Married       0\n",
       "Ethnicity     0\n",
       "Balance       0\n",
       "dtype: int64"
      ]
     },
     "execution_count": 159,
     "metadata": {},
     "output_type": "execute_result"
    }
   ],
   "source": [
    "df.isnull().sum()"
   ]
  },
  {
   "cell_type": "code",
   "execution_count": 160,
   "id": "765c697a",
   "metadata": {},
   "outputs": [
    {
     "data": {
      "text/plain": [
       "0"
      ]
     },
     "execution_count": 160,
     "metadata": {},
     "output_type": "execute_result"
    }
   ],
   "source": [
    "df.duplicated().sum()"
   ]
  },
  {
   "cell_type": "code",
   "execution_count": 161,
   "id": "f0c7660e",
   "metadata": {},
   "outputs": [
    {
     "data": {
      "text/html": [
       "<div>\n",
       "<style scoped>\n",
       "    .dataframe tbody tr th:only-of-type {\n",
       "        vertical-align: middle;\n",
       "    }\n",
       "\n",
       "    .dataframe tbody tr th {\n",
       "        vertical-align: top;\n",
       "    }\n",
       "\n",
       "    .dataframe thead th {\n",
       "        text-align: right;\n",
       "    }\n",
       "</style>\n",
       "<table border=\"1\" class=\"dataframe\">\n",
       "  <thead>\n",
       "    <tr style=\"text-align: right;\">\n",
       "      <th></th>\n",
       "      <th>Income</th>\n",
       "      <th>Limit</th>\n",
       "      <th>Rating</th>\n",
       "      <th>Cards</th>\n",
       "      <th>Age</th>\n",
       "      <th>Education</th>\n",
       "      <th>Gender</th>\n",
       "      <th>Student</th>\n",
       "      <th>Married</th>\n",
       "      <th>Ethnicity</th>\n",
       "      <th>Balance</th>\n",
       "    </tr>\n",
       "  </thead>\n",
       "  <tbody>\n",
       "    <tr>\n",
       "      <th>0</th>\n",
       "      <td>14.891</td>\n",
       "      <td>3606</td>\n",
       "      <td>283</td>\n",
       "      <td>2</td>\n",
       "      <td>34</td>\n",
       "      <td>11</td>\n",
       "      <td>Male</td>\n",
       "      <td>No</td>\n",
       "      <td>Yes</td>\n",
       "      <td>Caucasian</td>\n",
       "      <td>333</td>\n",
       "    </tr>\n",
       "    <tr>\n",
       "      <th>1</th>\n",
       "      <td>106.025</td>\n",
       "      <td>6645</td>\n",
       "      <td>483</td>\n",
       "      <td>3</td>\n",
       "      <td>82</td>\n",
       "      <td>15</td>\n",
       "      <td>Female</td>\n",
       "      <td>Yes</td>\n",
       "      <td>Yes</td>\n",
       "      <td>Asian</td>\n",
       "      <td>903</td>\n",
       "    </tr>\n",
       "    <tr>\n",
       "      <th>2</th>\n",
       "      <td>104.593</td>\n",
       "      <td>7075</td>\n",
       "      <td>514</td>\n",
       "      <td>4</td>\n",
       "      <td>71</td>\n",
       "      <td>11</td>\n",
       "      <td>Male</td>\n",
       "      <td>No</td>\n",
       "      <td>No</td>\n",
       "      <td>Asian</td>\n",
       "      <td>580</td>\n",
       "    </tr>\n",
       "    <tr>\n",
       "      <th>3</th>\n",
       "      <td>148.924</td>\n",
       "      <td>9504</td>\n",
       "      <td>681</td>\n",
       "      <td>3</td>\n",
       "      <td>36</td>\n",
       "      <td>11</td>\n",
       "      <td>Female</td>\n",
       "      <td>No</td>\n",
       "      <td>No</td>\n",
       "      <td>Asian</td>\n",
       "      <td>964</td>\n",
       "    </tr>\n",
       "    <tr>\n",
       "      <th>4</th>\n",
       "      <td>55.882</td>\n",
       "      <td>4897</td>\n",
       "      <td>357</td>\n",
       "      <td>2</td>\n",
       "      <td>68</td>\n",
       "      <td>16</td>\n",
       "      <td>Male</td>\n",
       "      <td>No</td>\n",
       "      <td>Yes</td>\n",
       "      <td>Caucasian</td>\n",
       "      <td>331</td>\n",
       "    </tr>\n",
       "  </tbody>\n",
       "</table>\n",
       "</div>"
      ],
      "text/plain": [
       "    Income  Limit  Rating  Cards  Age  Education  Gender Student Married  \\\n",
       "0   14.891   3606     283      2   34         11    Male      No     Yes   \n",
       "1  106.025   6645     483      3   82         15  Female     Yes     Yes   \n",
       "2  104.593   7075     514      4   71         11    Male      No      No   \n",
       "3  148.924   9504     681      3   36         11  Female      No      No   \n",
       "4   55.882   4897     357      2   68         16    Male      No     Yes   \n",
       "\n",
       "   Ethnicity  Balance  \n",
       "0  Caucasian      333  \n",
       "1      Asian      903  \n",
       "2      Asian      580  \n",
       "3      Asian      964  \n",
       "4  Caucasian      331  "
      ]
     },
     "execution_count": 161,
     "metadata": {},
     "output_type": "execute_result"
    }
   ],
   "source": [
    "df.drop(columns = 'Unnamed: 0', inplace = True)\n",
    "df.head()"
   ]
  },
  {
   "cell_type": "code",
   "execution_count": 162,
   "id": "4d485a68",
   "metadata": {},
   "outputs": [
    {
     "data": {
      "image/png": "[encoded data removed]",
      "text/plain": [
       "<Figure size 432x288 with 1 Axes>"
      ]
     },
     "metadata": {
      "needs_background": "light"
     },
     "output_type": "display_data"
    },
    {
     "name": "stdout",
     "output_type": "stream",
     "text": [
      "skewed value for Kde plot of Income is 1.7421174049581518\n"
     ]
    },
    {
     "data": {
      "image/png": "[encoded data removed]",
      "text/plain": [
       "<Figure size 432x288 with 1 Axes>"
      ]
     },
     "metadata": {
      "needs_background": "light"
     },
     "output_type": "display_data"
    },
    {
     "name": "stdout",
     "output_type": "stream",
     "text": [
      "skewed value for Kde plot of Limit is 0.8374929007321962\n"
     ]
    },
    {
     "data": {
      "image/png": "[encoded data removed]",
      "text/plain": [
       "<Figure size 432x288 with 1 Axes>"
      ]
     },
     "metadata": {
      "needs_background": "light"
     },
     "output_type": "display_data"
    },
    {
     "name": "stdout",
     "output_type": "stream",
     "text": [
      "skewed value for Kde plot of Rating is 0.8653935227370102\n"
     ]
    },
    {
     "data": {
      "image/png": "[encoded data removed]",
      "text/plain": [
       "<Figure size 432x288 with 1 Axes>"
      ]
     },
     "metadata": {
      "needs_background": "light"
     },
     "output_type": "display_data"
    },
    {
     "name": "stdout",
     "output_type": "stream",
     "text": [
      "skewed value for Kde plot of Age is 0.011495909415831947\n"
     ]
    },
    {
     "data": {
      "image/png": "[encoded data removed]",
      "text/plain": [
       "<Figure size 432x288 with 1 Axes>"
      ]
     },
     "metadata": {
      "needs_background": "light"
     },
     "output_type": "display_data"
    },
    {
     "name": "stdout",
     "output_type": "stream",
     "text": [
      "skewed value for Kde plot of Education is -0.32921176090512944\n"
     ]
    }
   ],
   "source": [
    "col = ['Income', 'Limit', 'Rating', 'Age','Education']\n",
    "for i in col:\n",
    "    sns.distplot(df[i])\n",
    "    plt.show()\n",
    "    print(\"skewed value for Kde plot of\",i,\"is\",df[i].skew())"
   ]
  },
  {
   "cell_type": "markdown",
   "id": "4ecdde5f",
   "metadata": {},
   "source": [
    "### Insight\n",
    "#### from above graphs we can observe that \n",
    "1. skewed value for Kde plot of Income is 1.7421174049581518 (which means highly skewed)\n",
    "2. skewed value for Kde plot of Rating is 0.8653935227370102 and for Limit is 0.8374929007321962 (which means moderatly skewed)\n",
    "\n",
    "#### Action\n",
    "Since we are performing linear regression and while performing linear regression, it is generally a good practice to normalize data so further we will apply mathematical transformation over these columns in order to normalize them "
   ]
  },
  {
   "cell_type": "code",
   "execution_count": 163,
   "id": "65e6a100",
   "metadata": {},
   "outputs": [
    {
     "data": {
      "image/png": "[encoded data removed]",
      "text/plain": [
       "<Figure size 432x288 with 1 Axes>"
      ]
     },
     "metadata": {
      "needs_background": "light"
     },
     "output_type": "display_data"
    },
    {
     "data": {
      "image/png": "[encoded data removed]",
      "text/plain": [
       "<Figure size 432x288 with 1 Axes>"
      ]
     },
     "metadata": {
      "needs_background": "light"
     },
     "output_type": "display_data"
    },
    {
     "data": {
      "image/png": "[encoded data removed]",
      "text/plain": [
       "<Figure size 432x288 with 1 Axes>"
      ]
     },
     "metadata": {
      "needs_background": "light"
     },
     "output_type": "display_data"
    },
    {
     "data": {
      "image/png": "[encoded data removed]",
      "text/plain": [
       "<Figure size 432x288 with 1 Axes>"
      ]
     },
     "metadata": {
      "needs_background": "light"
     },
     "output_type": "display_data"
    }
   ],
   "source": [
    "col = ['Income', 'Limit', 'Rating', 'Age']\n",
    "for i in col:\n",
    "    sns.scatterplot(df[i],df['Balance'])\n",
    "    plt.show()"
   ]
  },
  {
   "cell_type": "markdown",
   "id": "056f4c7e",
   "metadata": {},
   "source": [
    "### Insight\n",
    "#### from above graph following things can be observed \n",
    "1. Rating and Limit has a linear relationship with dependable variable Balance \n",
    "2. Income has slight linear relationship with dependable variable Balance\n",
    "3. Age do not posses linear relation with dependable variable Balance"
   ]
  },
  {
   "cell_type": "code",
   "execution_count": 164,
   "id": "3d8f7b83",
   "metadata": {},
   "outputs": [
    {
     "data": {
      "image/png": "[encoded data removed]",
      "text/plain": [
       "<Figure size 432x288 with 1 Axes>"
      ]
     },
     "metadata": {
      "needs_background": "light"
     },
     "output_type": "display_data"
    },
    {
     "data": {
      "image/png": "[encoded data removed]",
      "text/plain": [
       "<Figure size 432x288 with 1 Axes>"
      ]
     },
     "metadata": {
      "needs_background": "light"
     },
     "output_type": "display_data"
    },
    {
     "data": {
      "image/png": "[encoded data removed]",
      "text/plain": [
       "<Figure size 432x288 with 1 Axes>"
      ]
     },
     "metadata": {
      "needs_background": "light"
     },
     "output_type": "display_data"
    },
    {
     "data": {
      "image/png": "[encoded data removed]",
      "text/plain": [
       "<Figure size 432x288 with 1 Axes>"
      ]
     },
     "metadata": {
      "needs_background": "light"
     },
     "output_type": "display_data"
    }
   ],
   "source": [
    "col = ['Income', 'Limit', 'Rating', 'Age']\n",
    "for i in col:\n",
    "    sns.boxplot(df[i], color = 'purple')\n",
    "    plt.title('Boxplot for '+ i)\n",
    "    plt.show()"
   ]
  },
  {
   "cell_type": "markdown",
   "id": "826f983c",
   "metadata": {},
   "source": [
    "### Insight \n",
    "#### from above graph we can observe following points \n",
    "1. Rating, Limit, Income columns has outliers \n",
    "2. Age column is free from outliers \n",
    "\n",
    "### Actions \n",
    "Since we are performing linear regression and linear regression is sensitive to outliers so going ahead we have to remove these outliers "
   ]
  },
  {
   "cell_type": "markdown",
   "id": "ec1734f2",
   "metadata": {},
   "source": [
    "## Outliers Treatment\n",
    "In below cell we are treating outliers in 'Income', 'Limit', 'Rating' and saving those values into new columns 'income', 'limit', 'rating'"
   ]
  },
  {
   "cell_type": "code",
   "execution_count": 165,
   "id": "1940495b",
   "metadata": {},
   "outputs": [],
   "source": [
    "cols = ['Income', 'Limit', 'Rating']\n",
    "\n",
    "for col_name in cols:\n",
    "    percentile_25 = df[col_name].quantile(0.25)\n",
    "    percentile_75 = df[col_name].quantile(0.75)\n",
    "\n",
    "    # Calculate the Interquartile Range (IQR)\n",
    "    IQR = percentile_75 - percentile_25\n",
    "\n",
    "    # Define upper and lower bounds for outliers\n",
    "    upper_bound = percentile_75 + 1.5 * IQR\n",
    "    lower_bound = percentile_25 - 1.5 * IQR\n",
    "\n",
    "    # Create new column with outlier-replaced values\n",
    "    df[col_name.lower()] = df[col_name].apply(lambda x: percentile_75 if x > upper_bound else (percentile_25 if x < lower_bound else x))\n"
   ]
  },
  {
   "cell_type": "markdown",
   "id": "a105def9",
   "metadata": {},
   "source": [
    "### Plotting Boxplot for Income, Limit, Rating (Columns before outliers treatment) and income, limit, rating (Columns after outliers treatment)"
   ]
  },
  {
   "cell_type": "code",
   "execution_count": 166,
   "id": "b2a449d7",
   "metadata": {},
   "outputs": [
    {
     "data": {
      "image/png": "[encoded data removed]",
      "text/plain": [
       "<Figure size 864x720 with 6 Axes>"
      ]
     },
     "metadata": {
      "needs_background": "light"
     },
     "output_type": "display_data"
    }
   ],
   "source": [
    "# Create a 3x2 subplot grid\n",
    "fig, axes = plt.subplots(nrows=3, ncols=2, figsize=(12, 10))\n",
    "\n",
    "# Boxplot for 'Income' and 'income'\n",
    "sns.boxplot(x=df['Income'], ax=axes[0, 0])\n",
    "axes[0, 0].set_title('Before outlier treatment')\n",
    "sns.boxplot(x=df['income'], ax=axes[0, 1], color='orange')\n",
    "axes[0, 1].set_title('After outlier treatment')\n",
    "\n",
    "# Boxplot for 'Limit' and 'limit'\n",
    "sns.boxplot(x=df['Limit'], ax=axes[1, 0])\n",
    "axes[1, 0].set_title('Before outlier treatment')\n",
    "sns.boxplot(x=df['limit'], ax=axes[1, 1], color='orange')\n",
    "axes[1, 1].set_title('After outlier treatment')\n",
    "\n",
    "# Boxplot for 'Rating' and 'rating'\n",
    "sns.boxplot(x=df['Rating'], ax=axes[2, 0])\n",
    "axes[2, 0].set_title('Before outliers treatment')\n",
    "sns.boxplot(x=df['rating'], ax=axes[2, 1], color='orange')\n",
    "axes[2, 1].set_title('After outlier treatment')\n",
    "\n",
    "# Adjust the layout to prevent overlapping titles\n",
    "plt.tight_layout()\n",
    "\n",
    "fig.tight_layout(pad=5.0)\n",
    "# Display the plots\n",
    "plt.show()\n"
   ]
  },
  {
   "cell_type": "markdown",
   "id": "3d601e02",
   "metadata": {},
   "source": [
    "### Since we have our three new columns income, limit, rating so now we are droping old columns as they are of no use "
   ]
  },
  {
   "cell_type": "code",
   "execution_count": 167,
   "id": "0ba23626",
   "metadata": {},
   "outputs": [
    {
     "data": {
      "text/html": [
       "<div>\n",
       "<style scoped>\n",
       "    .dataframe tbody tr th:only-of-type {\n",
       "        vertical-align: middle;\n",
       "    }\n",
       "\n",
       "    .dataframe tbody tr th {\n",
       "        vertical-align: top;\n",
       "    }\n",
       "\n",
       "    .dataframe thead th {\n",
       "        text-align: right;\n",
       "    }\n",
       "</style>\n",
       "<table border=\"1\" class=\"dataframe\">\n",
       "  <thead>\n",
       "    <tr style=\"text-align: right;\">\n",
       "      <th></th>\n",
       "      <th>Cards</th>\n",
       "      <th>Age</th>\n",
       "      <th>Education</th>\n",
       "      <th>Gender</th>\n",
       "      <th>Student</th>\n",
       "      <th>Married</th>\n",
       "      <th>Ethnicity</th>\n",
       "      <th>Balance</th>\n",
       "      <th>income</th>\n",
       "      <th>limit</th>\n",
       "      <th>rating</th>\n",
       "    </tr>\n",
       "  </thead>\n",
       "  <tbody>\n",
       "    <tr>\n",
       "      <th>0</th>\n",
       "      <td>2</td>\n",
       "      <td>34</td>\n",
       "      <td>11</td>\n",
       "      <td>Male</td>\n",
       "      <td>No</td>\n",
       "      <td>Yes</td>\n",
       "      <td>Caucasian</td>\n",
       "      <td>333</td>\n",
       "      <td>14.89100</td>\n",
       "      <td>3606.0</td>\n",
       "      <td>283.0</td>\n",
       "    </tr>\n",
       "    <tr>\n",
       "      <th>1</th>\n",
       "      <td>3</td>\n",
       "      <td>82</td>\n",
       "      <td>15</td>\n",
       "      <td>Female</td>\n",
       "      <td>Yes</td>\n",
       "      <td>Yes</td>\n",
       "      <td>Asian</td>\n",
       "      <td>903</td>\n",
       "      <td>106.02500</td>\n",
       "      <td>6645.0</td>\n",
       "      <td>483.0</td>\n",
       "    </tr>\n",
       "    <tr>\n",
       "      <th>2</th>\n",
       "      <td>4</td>\n",
       "      <td>71</td>\n",
       "      <td>11</td>\n",
       "      <td>Male</td>\n",
       "      <td>No</td>\n",
       "      <td>No</td>\n",
       "      <td>Asian</td>\n",
       "      <td>580</td>\n",
       "      <td>104.59300</td>\n",
       "      <td>7075.0</td>\n",
       "      <td>514.0</td>\n",
       "    </tr>\n",
       "    <tr>\n",
       "      <th>3</th>\n",
       "      <td>3</td>\n",
       "      <td>36</td>\n",
       "      <td>11</td>\n",
       "      <td>Female</td>\n",
       "      <td>No</td>\n",
       "      <td>No</td>\n",
       "      <td>Asian</td>\n",
       "      <td>964</td>\n",
       "      <td>57.47075</td>\n",
       "      <td>9504.0</td>\n",
       "      <td>681.0</td>\n",
       "    </tr>\n",
       "    <tr>\n",
       "      <th>4</th>\n",
       "      <td>2</td>\n",
       "      <td>68</td>\n",
       "      <td>16</td>\n",
       "      <td>Male</td>\n",
       "      <td>No</td>\n",
       "      <td>Yes</td>\n",
       "      <td>Caucasian</td>\n",
       "      <td>331</td>\n",
       "      <td>55.88200</td>\n",
       "      <td>4897.0</td>\n",
       "      <td>357.0</td>\n",
       "    </tr>\n",
       "  </tbody>\n",
       "</table>\n",
       "</div>"
      ],
      "text/plain": [
       "   Cards  Age  Education  Gender Student Married  Ethnicity  Balance  \\\n",
       "0      2   34         11    Male      No     Yes  Caucasian      333   \n",
       "1      3   82         15  Female     Yes     Yes      Asian      903   \n",
       "2      4   71         11    Male      No      No      Asian      580   \n",
       "3      3   36         11  Female      No      No      Asian      964   \n",
       "4      2   68         16    Male      No     Yes  Caucasian      331   \n",
       "\n",
       "      income   limit  rating  \n",
       "0   14.89100  3606.0   283.0  \n",
       "1  106.02500  6645.0   483.0  \n",
       "2  104.59300  7075.0   514.0  \n",
       "3   57.47075  9504.0   681.0  \n",
       "4   55.88200  4897.0   357.0  "
      ]
     },
     "execution_count": 167,
     "metadata": {},
     "output_type": "execute_result"
    }
   ],
   "source": [
    "df.drop(columns = ['Income','Limit','Rating'], inplace = True)\n",
    "df.head()"
   ]
  },
  {
   "cell_type": "code",
   "execution_count": 168,
   "id": "e626ddb4",
   "metadata": {},
   "outputs": [
    {
     "data": {
      "text/html": [
       "<div>\n",
       "<style scoped>\n",
       "    .dataframe tbody tr th:only-of-type {\n",
       "        vertical-align: middle;\n",
       "    }\n",
       "\n",
       "    .dataframe tbody tr th {\n",
       "        vertical-align: top;\n",
       "    }\n",
       "\n",
       "    .dataframe thead th {\n",
       "        text-align: right;\n",
       "    }\n",
       "</style>\n",
       "<table border=\"1\" class=\"dataframe\">\n",
       "  <thead>\n",
       "    <tr style=\"text-align: right;\">\n",
       "      <th></th>\n",
       "      <th>Cards</th>\n",
       "      <th>Age</th>\n",
       "      <th>Education</th>\n",
       "      <th>Gender</th>\n",
       "      <th>Student</th>\n",
       "      <th>Married</th>\n",
       "      <th>Ethnicity</th>\n",
       "      <th>Balance</th>\n",
       "      <th>income</th>\n",
       "      <th>limit</th>\n",
       "      <th>rating</th>\n",
       "      <th>Age_Category</th>\n",
       "    </tr>\n",
       "  </thead>\n",
       "  <tbody>\n",
       "    <tr>\n",
       "      <th>0</th>\n",
       "      <td>2</td>\n",
       "      <td>34</td>\n",
       "      <td>11</td>\n",
       "      <td>Male</td>\n",
       "      <td>No</td>\n",
       "      <td>Yes</td>\n",
       "      <td>Caucasian</td>\n",
       "      <td>333</td>\n",
       "      <td>14.89100</td>\n",
       "      <td>3606.0</td>\n",
       "      <td>283.0</td>\n",
       "      <td>Middle-aged</td>\n",
       "    </tr>\n",
       "    <tr>\n",
       "      <th>1</th>\n",
       "      <td>3</td>\n",
       "      <td>82</td>\n",
       "      <td>15</td>\n",
       "      <td>Female</td>\n",
       "      <td>Yes</td>\n",
       "      <td>Yes</td>\n",
       "      <td>Asian</td>\n",
       "      <td>903</td>\n",
       "      <td>106.02500</td>\n",
       "      <td>6645.0</td>\n",
       "      <td>483.0</td>\n",
       "      <td>Senior</td>\n",
       "    </tr>\n",
       "    <tr>\n",
       "      <th>2</th>\n",
       "      <td>4</td>\n",
       "      <td>71</td>\n",
       "      <td>11</td>\n",
       "      <td>Male</td>\n",
       "      <td>No</td>\n",
       "      <td>No</td>\n",
       "      <td>Asian</td>\n",
       "      <td>580</td>\n",
       "      <td>104.59300</td>\n",
       "      <td>7075.0</td>\n",
       "      <td>514.0</td>\n",
       "      <td>Senior</td>\n",
       "    </tr>\n",
       "    <tr>\n",
       "      <th>3</th>\n",
       "      <td>3</td>\n",
       "      <td>36</td>\n",
       "      <td>11</td>\n",
       "      <td>Female</td>\n",
       "      <td>No</td>\n",
       "      <td>No</td>\n",
       "      <td>Asian</td>\n",
       "      <td>964</td>\n",
       "      <td>57.47075</td>\n",
       "      <td>9504.0</td>\n",
       "      <td>681.0</td>\n",
       "      <td>Middle-aged</td>\n",
       "    </tr>\n",
       "    <tr>\n",
       "      <th>4</th>\n",
       "      <td>2</td>\n",
       "      <td>68</td>\n",
       "      <td>16</td>\n",
       "      <td>Male</td>\n",
       "      <td>No</td>\n",
       "      <td>Yes</td>\n",
       "      <td>Caucasian</td>\n",
       "      <td>331</td>\n",
       "      <td>55.88200</td>\n",
       "      <td>4897.0</td>\n",
       "      <td>357.0</td>\n",
       "      <td>Senior</td>\n",
       "    </tr>\n",
       "  </tbody>\n",
       "</table>\n",
       "</div>"
      ],
      "text/plain": [
       "   Cards  Age  Education  Gender Student Married  Ethnicity  Balance  \\\n",
       "0      2   34         11    Male      No     Yes  Caucasian      333   \n",
       "1      3   82         15  Female     Yes     Yes      Asian      903   \n",
       "2      4   71         11    Male      No      No      Asian      580   \n",
       "3      3   36         11  Female      No      No      Asian      964   \n",
       "4      2   68         16    Male      No     Yes  Caucasian      331   \n",
       "\n",
       "      income   limit  rating Age_Category  \n",
       "0   14.89100  3606.0   283.0  Middle-aged  \n",
       "1  106.02500  6645.0   483.0       Senior  \n",
       "2  104.59300  7075.0   514.0       Senior  \n",
       "3   57.47075  9504.0   681.0  Middle-aged  \n",
       "4   55.88200  4897.0   357.0       Senior  "
      ]
     },
     "execution_count": 168,
     "metadata": {},
     "output_type": "execute_result"
    }
   ],
   "source": [
    "# Define the bin edges for the age groups\n",
    "bin_edges = [21, 30, 60, 95]  # Bin edges between 21 and 95\n",
    "\n",
    "# Define the corresponding labels for each bin\n",
    "bin_labels = ['Young', 'Middle-aged', 'Senior']\n",
    "\n",
    "# Use pd.cut() to create the bins with descriptive labels\n",
    "df['Age_Category'] = pd.cut(df['Age'], bins=bin_edges, labels=bin_labels, right=False)\n",
    "\n",
    "df.head()"
   ]
  },
  {
   "cell_type": "code",
   "execution_count": 169,
   "id": "70455631",
   "metadata": {},
   "outputs": [
    {
     "name": "stdout",
     "output_type": "stream",
     "text": [
      "p_value is 0.29572379902439716\n",
      "Failed to reject Null Hypothesis H0\n"
     ]
    }
   ],
   "source": [
    "# Null Hypothesis: H0:  Age_Category has no impact on Balance\n",
    "# Alternate Hypothesis: Ha: Age_Category has impact on Balance\n",
    "\n",
    "from scipy.stats import f_oneway\n",
    "Age_Category_1 = df[df['Age_Category'] == 'Young']['Balance'].values\n",
    "Age_Category_2 = df[df['Age_Category'] == 'Middle-aged']['Balance'].values\n",
    "Age_Category_3 = df[df['Age_Category'] == 'Senior']['Balance'].values\n",
    "\n",
    "alpha = 0.05\n",
    "f_stat,p_value = f_oneway(Age_Category_1,Age_Category_2,Age_Category_3)\n",
    "print('p_value is',p_value)\n",
    "if p_value < alpha:\n",
    "    print('we reject Null Hypothesis H0')\n",
    "else:\n",
    "    print('Failed to reject Null Hypothesis H0')"
   ]
  },
  {
   "cell_type": "markdown",
   "id": "e3f74c00",
   "metadata": {},
   "source": [
    "### Insight\n",
    "#### while performing Anova test for diffrent age categories we found that Balance mean is not significantly different for different age categories hence Age is not having major impact over our dependant variable "
   ]
  },
  {
   "cell_type": "code",
   "execution_count": 170,
   "id": "a242ccf9",
   "metadata": {},
   "outputs": [
    {
     "data": {
      "text/plain": [
       "2    115\n",
       "3    111\n",
       "4     72\n",
       "1     51\n",
       "5     34\n",
       "6     11\n",
       "7      4\n",
       "8      1\n",
       "9      1\n",
       "Name: Cards, dtype: int64"
      ]
     },
     "execution_count": 170,
     "metadata": {},
     "output_type": "execute_result"
    }
   ],
   "source": [
    "df['Cards'].value_counts()"
   ]
  },
  {
   "cell_type": "markdown",
   "id": "f16c01b9",
   "metadata": {},
   "source": [
    "### Insight \n",
    "from above code we can observe that alomst 200 people in our dataset having either 1 or 2 cards and rest having more than 2 cards\n",
    "\n",
    "### Action \n",
    "Since we wanna see impact of no. of cards so we will categorise it into two bins no of cards equal to (1 & 2) into one group and rest into other"
   ]
  },
  {
   "cell_type": "code",
   "execution_count": 171,
   "id": "6340c7c8",
   "metadata": {},
   "outputs": [],
   "source": [
    "def fun(x):\n",
    "    if x == 1 or x == 2:\n",
    "        return '1-2'\n",
    "    else:\n",
    "        return '2+'\n",
    "df[\"num_of_cards\"] = df['Cards'].apply(fun)"
   ]
  },
  {
   "cell_type": "code",
   "execution_count": 172,
   "id": "7e7522c1",
   "metadata": {},
   "outputs": [
    {
     "name": "stdout",
     "output_type": "stream",
     "text": [
      "p_value is 0.28561062054743463\n",
      "Failed to reject Null Hypothesis H0\n"
     ]
    }
   ],
   "source": [
    "# Checking number of cards has any impact on dependant variable Balance or not (Checking at 95% confidence or alpha = 0.05) \n",
    "# using two sample t-test\n",
    " \n",
    "# Null Hypothesis: H0 is number of cards has no impact on dependant variable Balance\n",
    "# Alternate Hypothesis: Ha is number of cards has impact on dependant variable Balance\n",
    "\n",
    "import scipy.stats as stat\n",
    "alpha = 0.05\n",
    "card_count_upto_2 = df[df[\"num_of_cards\"] == '1-2']['Balance'].values\n",
    "card_count_more_than_2 = df[df[\"num_of_cards\"] == '2+']['Balance'].values\n",
    "\n",
    "t_stat,p_value = stat.ttest_ind(card_count_upto_2, card_count_more_than_2)\n",
    "print('p_value is',p_value)\n",
    "if p_value < alpha:\n",
    "    print('we reject Null Hypothesis H0')\n",
    "else:\n",
    "    print('Failed to reject Null Hypothesis H0')"
   ]
  },
  {
   "cell_type": "markdown",
   "id": "9e786fd9",
   "metadata": {},
   "source": [
    "### Insight\n",
    "#### while performing two sample t-test for different number of cards we found that Balance mean is not significantly different for different values of number of card hence Cards is not having major impact over our dependant variable "
   ]
  },
  {
   "cell_type": "code",
   "execution_count": 173,
   "id": "79108bf9",
   "metadata": {},
   "outputs": [
    {
     "name": "stdout",
     "output_type": "stream",
     "text": [
      "p_value is 0.6685161055027189\n",
      "Failed to reject Null Hypothesis H0\n"
     ]
    }
   ],
   "source": [
    "# Checking Gender has any impact on dependant variable Balance or not (Checking at 95% confidence or alpha = 0.05) \n",
    "# using two sample t-test\n",
    " \n",
    "# Null Hypothesis: H0 is Gender has no impact on dependant variable Balance\n",
    "# Alternate Hypothesis: Ha is Gender has impact on dependant variable Balance\n",
    "\n",
    "import scipy.stats as stat\n",
    "alpha = 0.05\n",
    "Gender_male = df[df[\"Gender\"] == ' Male']['Balance'].values\n",
    "Gender_female = df[df[\"Gender\"] == 'Female']['Balance'].values\n",
    "\n",
    "t_stat,p_value = stat.ttest_ind(Gender_male, Gender_female)\n",
    "print('p_value is',p_value)\n",
    "if p_value < alpha:\n",
    "    print('we reject Null Hypothesis H0')\n",
    "else:\n",
    "    print('Failed to reject Null Hypothesis H0')"
   ]
  },
  {
   "cell_type": "markdown",
   "id": "d9bad588",
   "metadata": {},
   "source": [
    "### Insight\n",
    "#### while performing two sample t-test for different Gender we found that Balance mean is not significantly different for different Gender hence Gender is not having major impact over our dependant variable "
   ]
  },
  {
   "cell_type": "code",
   "execution_count": 174,
   "id": "9b338cb8",
   "metadata": {},
   "outputs": [
    {
     "name": "stdout",
     "output_type": "stream",
     "text": [
      "p_value is 0.9099388989450072\n",
      "Failed to reject Null Hypothesis H0\n"
     ]
    }
   ],
   "source": [
    "# Checking Marital Status has any impact on dependant variable Balance or not (Checking at 95% confidence or alpha = 0.05) \n",
    "# using two sample t-test\n",
    " \n",
    "# Null Hypothesis: H0 is Marital Status has no impact on dependant variable Balance\n",
    "# Alternate Hypothesis: Ha is Marital Status has impact on dependant variable Balance\n",
    "\n",
    "import scipy.stats as stat\n",
    "alpha = 0.05\n",
    "Married_Yes = df[df[\"Married\"] == 'Yes']['Balance'].values\n",
    "Married_No = df[df[\"Married\"] == 'No']['Balance'].values\n",
    "\n",
    "t_stat,p_value = stat.ttest_ind(Married_Yes, Married_No)\n",
    "print('p_value is',p_value)\n",
    "if p_value < alpha:\n",
    "    print('we reject Null Hypothesis H0')\n",
    "else:\n",
    "    print('Failed to reject Null Hypothesis H0')"
   ]
  },
  {
   "cell_type": "markdown",
   "id": "75a22840",
   "metadata": {},
   "source": [
    "### Insight\n",
    "#### while performing two sample t-test for different Marital Status we found that Balance mean is not significantly different for different Marital Status hence Married Featue is not having major impact over our dependant variable "
   ]
  },
  {
   "cell_type": "code",
   "execution_count": 175,
   "id": "bc792438",
   "metadata": {},
   "outputs": [
    {
     "name": "stdout",
     "output_type": "stream",
     "text": [
      "p_value is 1.4877341077323024e-07\n",
      "we reject Null Hypothesis H0\n"
     ]
    }
   ],
   "source": [
    "# Checking Student Status has any impact on dependant variable Balance or not (Checking at 95% confidence or alpha = 0.05) \n",
    "# using two sample t-test\n",
    " \n",
    "# Null Hypothesis: H0 is Student Status has no impact on dependant variable Balance\n",
    "# Alternate Hypothesis: Ha is Student Status has impact on dependant variable Balance\n",
    "\n",
    "import scipy.stats as stat\n",
    "alpha = 0.05\n",
    "Student_Yes = df[df[\"Student\"] == 'Yes']['Balance'].values\n",
    "Student_No = df[df[\"Student\"] == 'No']['Balance'].values\n",
    "\n",
    "t_stat,p_value = stat.ttest_ind(Student_Yes, Student_No)\n",
    "print('p_value is',p_value)\n",
    "if p_value < alpha:\n",
    "    print('we reject Null Hypothesis H0')\n",
    "else:\n",
    "    print('Failed to reject Null Hypothesis H0')"
   ]
  },
  {
   "cell_type": "markdown",
   "id": "b381d29e",
   "metadata": {},
   "source": [
    "### Insight\n",
    "#### while performing two sample t-test for different Student Status we found that Balance mean is significantly different for different Student Status hence Student Featue is having major impact over our dependant variable "
   ]
  },
  {
   "cell_type": "code",
   "execution_count": 176,
   "id": "3793b0fd",
   "metadata": {},
   "outputs": [
    {
     "name": "stdout",
     "output_type": "stream",
     "text": [
      "p_value is 0.9574918881199579\n",
      "Failed to reject Null Hypothesis H0\n"
     ]
    }
   ],
   "source": [
    "# Null Hypothesis: H0:  Ethnicity has no impact on Balance\n",
    "# Alternate Hypothesis: Ha: Ethnicity has impact on Balance\n",
    "\n",
    "from scipy.stats import f_oneway\n",
    "Ethnicity_1 = df[df['Ethnicity'] == 'Caucasian']['Balance'].values\n",
    "Ethnicity_2 = df[df['Ethnicity'] == 'Asian']['Balance'].values\n",
    "Ethnicity_3 = df[df['Ethnicity'] == 'African American']['Balance'].values\n",
    "\n",
    "alpha = 0.05\n",
    "f_stat,p_value = f_oneway(Ethnicity_1,Ethnicity_2,Ethnicity_3)\n",
    "print('p_value is',p_value)\n",
    "if p_value < alpha:\n",
    "    print('we reject Null Hypothesis H0')\n",
    "else:\n",
    "    print('Failed to reject Null Hypothesis H0')"
   ]
  },
  {
   "cell_type": "markdown",
   "id": "a2929906",
   "metadata": {},
   "source": [
    "### Insight\n",
    "#### while performing Anova test for different Ethnic groups we found that Balance mean is not significantly different for different Ethnicic group hence Ethnicity is not having major impact over our dependant variable "
   ]
  },
  {
   "cell_type": "code",
   "execution_count": 177,
   "id": "a0c5f523",
   "metadata": {},
   "outputs": [
    {
     "data": {
      "text/html": [
       "<div>\n",
       "<style scoped>\n",
       "    .dataframe tbody tr th:only-of-type {\n",
       "        vertical-align: middle;\n",
       "    }\n",
       "\n",
       "    .dataframe tbody tr th {\n",
       "        vertical-align: top;\n",
       "    }\n",
       "\n",
       "    .dataframe thead th {\n",
       "        text-align: right;\n",
       "    }\n",
       "</style>\n",
       "<table border=\"1\" class=\"dataframe\">\n",
       "  <thead>\n",
       "    <tr style=\"text-align: right;\">\n",
       "      <th></th>\n",
       "      <th>Cards</th>\n",
       "      <th>Age</th>\n",
       "      <th>Education</th>\n",
       "      <th>Gender</th>\n",
       "      <th>Student</th>\n",
       "      <th>Married</th>\n",
       "      <th>Ethnicity</th>\n",
       "      <th>Balance</th>\n",
       "      <th>income</th>\n",
       "      <th>limit</th>\n",
       "      <th>rating</th>\n",
       "      <th>Age_Category</th>\n",
       "      <th>num_of_cards</th>\n",
       "      <th>Education_Category</th>\n",
       "    </tr>\n",
       "  </thead>\n",
       "  <tbody>\n",
       "    <tr>\n",
       "      <th>0</th>\n",
       "      <td>2</td>\n",
       "      <td>34</td>\n",
       "      <td>11</td>\n",
       "      <td>Male</td>\n",
       "      <td>No</td>\n",
       "      <td>Yes</td>\n",
       "      <td>Caucasian</td>\n",
       "      <td>333</td>\n",
       "      <td>14.89100</td>\n",
       "      <td>3606.0</td>\n",
       "      <td>283.0</td>\n",
       "      <td>Middle-aged</td>\n",
       "      <td>1-2</td>\n",
       "      <td>Moderate</td>\n",
       "    </tr>\n",
       "    <tr>\n",
       "      <th>1</th>\n",
       "      <td>3</td>\n",
       "      <td>82</td>\n",
       "      <td>15</td>\n",
       "      <td>Female</td>\n",
       "      <td>Yes</td>\n",
       "      <td>Yes</td>\n",
       "      <td>Asian</td>\n",
       "      <td>903</td>\n",
       "      <td>106.02500</td>\n",
       "      <td>6645.0</td>\n",
       "      <td>483.0</td>\n",
       "      <td>Senior</td>\n",
       "      <td>2+</td>\n",
       "      <td>Very High</td>\n",
       "    </tr>\n",
       "    <tr>\n",
       "      <th>2</th>\n",
       "      <td>4</td>\n",
       "      <td>71</td>\n",
       "      <td>11</td>\n",
       "      <td>Male</td>\n",
       "      <td>No</td>\n",
       "      <td>No</td>\n",
       "      <td>Asian</td>\n",
       "      <td>580</td>\n",
       "      <td>104.59300</td>\n",
       "      <td>7075.0</td>\n",
       "      <td>514.0</td>\n",
       "      <td>Senior</td>\n",
       "      <td>2+</td>\n",
       "      <td>Moderate</td>\n",
       "    </tr>\n",
       "    <tr>\n",
       "      <th>3</th>\n",
       "      <td>3</td>\n",
       "      <td>36</td>\n",
       "      <td>11</td>\n",
       "      <td>Female</td>\n",
       "      <td>No</td>\n",
       "      <td>No</td>\n",
       "      <td>Asian</td>\n",
       "      <td>964</td>\n",
       "      <td>57.47075</td>\n",
       "      <td>9504.0</td>\n",
       "      <td>681.0</td>\n",
       "      <td>Middle-aged</td>\n",
       "      <td>2+</td>\n",
       "      <td>Moderate</td>\n",
       "    </tr>\n",
       "    <tr>\n",
       "      <th>4</th>\n",
       "      <td>2</td>\n",
       "      <td>68</td>\n",
       "      <td>16</td>\n",
       "      <td>Male</td>\n",
       "      <td>No</td>\n",
       "      <td>Yes</td>\n",
       "      <td>Caucasian</td>\n",
       "      <td>331</td>\n",
       "      <td>55.88200</td>\n",
       "      <td>4897.0</td>\n",
       "      <td>357.0</td>\n",
       "      <td>Senior</td>\n",
       "      <td>1-2</td>\n",
       "      <td>Very High</td>\n",
       "    </tr>\n",
       "  </tbody>\n",
       "</table>\n",
       "</div>"
      ],
      "text/plain": [
       "   Cards  Age  Education  Gender Student Married  Ethnicity  Balance  \\\n",
       "0      2   34         11    Male      No     Yes  Caucasian      333   \n",
       "1      3   82         15  Female     Yes     Yes      Asian      903   \n",
       "2      4   71         11    Male      No      No      Asian      580   \n",
       "3      3   36         11  Female      No      No      Asian      964   \n",
       "4      2   68         16    Male      No     Yes  Caucasian      331   \n",
       "\n",
       "      income   limit  rating Age_Category num_of_cards Education_Category  \n",
       "0   14.89100  3606.0   283.0  Middle-aged          1-2           Moderate  \n",
       "1  106.02500  6645.0   483.0       Senior           2+          Very High  \n",
       "2  104.59300  7075.0   514.0       Senior           2+           Moderate  \n",
       "3   57.47075  9504.0   681.0  Middle-aged           2+           Moderate  \n",
       "4   55.88200  4897.0   357.0       Senior          1-2          Very High  "
      ]
     },
     "execution_count": 177,
     "metadata": {},
     "output_type": "execute_result"
    }
   ],
   "source": [
    "# Define the custom bin edges for the education groups\n",
    "bin_edges = [5, 9, 12, 15, 20]\n",
    "\n",
    "# Define the corresponding labels for each bin\n",
    "bin_labels = ['Low', 'Moderate', 'High', 'Very High']\n",
    "\n",
    "# Use pd.cut() to create the bins with descriptive labels\n",
    "df['Education_Category'] = pd.cut(df['Education'], bins=bin_edges, labels=bin_labels, right=False)\n",
    "\n",
    "# Print the DataFrame with the new 'Education_Category' column\n",
    "df.head()"
   ]
  },
  {
   "cell_type": "code",
   "execution_count": 178,
   "id": "66863d20",
   "metadata": {},
   "outputs": [
    {
     "name": "stdout",
     "output_type": "stream",
     "text": [
      "p_value is 0.8922500395636683\n",
      "Failed to reject Null Hypothesis H0\n"
     ]
    }
   ],
   "source": [
    "from scipy.stats import f_oneway\n",
    "\n",
    "Education_Category_1 = df[df['Education_Category'] == 'Low']['Balance'].values\n",
    "Education_Category_2 = df[df['Education_Category'] == 'Moderate']['Balance'].values\n",
    "Education_Category_3 = df[df['Education_Category'] == 'High']['Balance'].values\n",
    "Education_Category_4 = df[df['Education_Category'] == 'Very High']['Balance'].values\n",
    "\n",
    "alpha = 0.05\n",
    "f_stat, p_value = f_oneway(Education_Category_1, Education_Category_2, Education_Category_3,Education_Category_4)\n",
    "print('p_value is', p_value)\n",
    "if p_value < alpha:\n",
    "    print('we reject Null Hypothesis H0')\n",
    "else:\n",
    "    print('Failed to reject Null Hypothesis H0')"
   ]
  },
  {
   "cell_type": "markdown",
   "id": "ec964526",
   "metadata": {},
   "source": [
    "### Insight\n",
    "#### while performing Anova test for different Education_Category we found that Balance mean is not significantly different for different Education_Category hence Education is not having major impact over our dependant variable "
   ]
  },
  {
   "cell_type": "code",
   "execution_count": 179,
   "id": "d2a3c040",
   "metadata": {},
   "outputs": [
    {
     "data": {
      "text/html": [
       "<div>\n",
       "<style scoped>\n",
       "    .dataframe tbody tr th:only-of-type {\n",
       "        vertical-align: middle;\n",
       "    }\n",
       "\n",
       "    .dataframe tbody tr th {\n",
       "        vertical-align: top;\n",
       "    }\n",
       "\n",
       "    .dataframe thead th {\n",
       "        text-align: right;\n",
       "    }\n",
       "</style>\n",
       "<table border=\"1\" class=\"dataframe\">\n",
       "  <thead>\n",
       "    <tr style=\"text-align: right;\">\n",
       "      <th></th>\n",
       "      <th>Cards</th>\n",
       "      <th>Age</th>\n",
       "      <th>Education</th>\n",
       "      <th>Gender</th>\n",
       "      <th>Student</th>\n",
       "      <th>Married</th>\n",
       "      <th>Ethnicity</th>\n",
       "      <th>Balance</th>\n",
       "      <th>income</th>\n",
       "      <th>limit</th>\n",
       "      <th>rating</th>\n",
       "      <th>Age_Category</th>\n",
       "      <th>num_of_cards</th>\n",
       "      <th>Education_Category</th>\n",
       "    </tr>\n",
       "  </thead>\n",
       "  <tbody>\n",
       "    <tr>\n",
       "      <th>0</th>\n",
       "      <td>2</td>\n",
       "      <td>34</td>\n",
       "      <td>11</td>\n",
       "      <td>Male</td>\n",
       "      <td>No</td>\n",
       "      <td>Yes</td>\n",
       "      <td>Caucasian</td>\n",
       "      <td>333</td>\n",
       "      <td>14.89100</td>\n",
       "      <td>3606.0</td>\n",
       "      <td>283.0</td>\n",
       "      <td>Middle-aged</td>\n",
       "      <td>1-2</td>\n",
       "      <td>Moderate</td>\n",
       "    </tr>\n",
       "    <tr>\n",
       "      <th>1</th>\n",
       "      <td>3</td>\n",
       "      <td>82</td>\n",
       "      <td>15</td>\n",
       "      <td>Female</td>\n",
       "      <td>Yes</td>\n",
       "      <td>Yes</td>\n",
       "      <td>Asian</td>\n",
       "      <td>903</td>\n",
       "      <td>106.02500</td>\n",
       "      <td>6645.0</td>\n",
       "      <td>483.0</td>\n",
       "      <td>Senior</td>\n",
       "      <td>2+</td>\n",
       "      <td>Very High</td>\n",
       "    </tr>\n",
       "    <tr>\n",
       "      <th>2</th>\n",
       "      <td>4</td>\n",
       "      <td>71</td>\n",
       "      <td>11</td>\n",
       "      <td>Male</td>\n",
       "      <td>No</td>\n",
       "      <td>No</td>\n",
       "      <td>Asian</td>\n",
       "      <td>580</td>\n",
       "      <td>104.59300</td>\n",
       "      <td>7075.0</td>\n",
       "      <td>514.0</td>\n",
       "      <td>Senior</td>\n",
       "      <td>2+</td>\n",
       "      <td>Moderate</td>\n",
       "    </tr>\n",
       "    <tr>\n",
       "      <th>3</th>\n",
       "      <td>3</td>\n",
       "      <td>36</td>\n",
       "      <td>11</td>\n",
       "      <td>Female</td>\n",
       "      <td>No</td>\n",
       "      <td>No</td>\n",
       "      <td>Asian</td>\n",
       "      <td>964</td>\n",
       "      <td>57.47075</td>\n",
       "      <td>9504.0</td>\n",
       "      <td>681.0</td>\n",
       "      <td>Middle-aged</td>\n",
       "      <td>2+</td>\n",
       "      <td>Moderate</td>\n",
       "    </tr>\n",
       "    <tr>\n",
       "      <th>4</th>\n",
       "      <td>2</td>\n",
       "      <td>68</td>\n",
       "      <td>16</td>\n",
       "      <td>Male</td>\n",
       "      <td>No</td>\n",
       "      <td>Yes</td>\n",
       "      <td>Caucasian</td>\n",
       "      <td>331</td>\n",
       "      <td>55.88200</td>\n",
       "      <td>4897.0</td>\n",
       "      <td>357.0</td>\n",
       "      <td>Senior</td>\n",
       "      <td>1-2</td>\n",
       "      <td>Very High</td>\n",
       "    </tr>\n",
       "  </tbody>\n",
       "</table>\n",
       "</div>"
      ],
      "text/plain": [
       "   Cards  Age  Education  Gender Student Married  Ethnicity  Balance  \\\n",
       "0      2   34         11    Male      No     Yes  Caucasian      333   \n",
       "1      3   82         15  Female     Yes     Yes      Asian      903   \n",
       "2      4   71         11    Male      No      No      Asian      580   \n",
       "3      3   36         11  Female      No      No      Asian      964   \n",
       "4      2   68         16    Male      No     Yes  Caucasian      331   \n",
       "\n",
       "      income   limit  rating Age_Category num_of_cards Education_Category  \n",
       "0   14.89100  3606.0   283.0  Middle-aged          1-2           Moderate  \n",
       "1  106.02500  6645.0   483.0       Senior           2+          Very High  \n",
       "2  104.59300  7075.0   514.0       Senior           2+           Moderate  \n",
       "3   57.47075  9504.0   681.0  Middle-aged           2+           Moderate  \n",
       "4   55.88200  4897.0   357.0       Senior          1-2          Very High  "
      ]
     },
     "execution_count": 179,
     "metadata": {},
     "output_type": "execute_result"
    }
   ],
   "source": [
    "df.head()"
   ]
  },
  {
   "cell_type": "markdown",
   "id": "fe2165ce",
   "metadata": {},
   "source": [
    "### we can observe few new columns in above dataframe which we had created for better understanding of corresponding numerical column and also for performing some statsitical on those numerical columns \n",
    "\n",
    "### Action \n",
    "as we are performing Linear Regression so columns with two many categorical values will create complexity and since we already have used these column to gather insights now we can simply drop them."
   ]
  },
  {
   "cell_type": "code",
   "execution_count": 180,
   "id": "b19d4712",
   "metadata": {},
   "outputs": [
    {
     "data": {
      "text/html": [
       "<div>\n",
       "<style scoped>\n",
       "    .dataframe tbody tr th:only-of-type {\n",
       "        vertical-align: middle;\n",
       "    }\n",
       "\n",
       "    .dataframe tbody tr th {\n",
       "        vertical-align: top;\n",
       "    }\n",
       "\n",
       "    .dataframe thead th {\n",
       "        text-align: right;\n",
       "    }\n",
       "</style>\n",
       "<table border=\"1\" class=\"dataframe\">\n",
       "  <thead>\n",
       "    <tr style=\"text-align: right;\">\n",
       "      <th></th>\n",
       "      <th>Cards</th>\n",
       "      <th>Age</th>\n",
       "      <th>Education</th>\n",
       "      <th>Gender</th>\n",
       "      <th>Student</th>\n",
       "      <th>Married</th>\n",
       "      <th>Ethnicity</th>\n",
       "      <th>Balance</th>\n",
       "      <th>income</th>\n",
       "      <th>limit</th>\n",
       "      <th>rating</th>\n",
       "    </tr>\n",
       "  </thead>\n",
       "  <tbody>\n",
       "    <tr>\n",
       "      <th>0</th>\n",
       "      <td>2</td>\n",
       "      <td>34</td>\n",
       "      <td>11</td>\n",
       "      <td>Male</td>\n",
       "      <td>No</td>\n",
       "      <td>Yes</td>\n",
       "      <td>Caucasian</td>\n",
       "      <td>333</td>\n",
       "      <td>14.89100</td>\n",
       "      <td>3606.0</td>\n",
       "      <td>283.0</td>\n",
       "    </tr>\n",
       "    <tr>\n",
       "      <th>1</th>\n",
       "      <td>3</td>\n",
       "      <td>82</td>\n",
       "      <td>15</td>\n",
       "      <td>Female</td>\n",
       "      <td>Yes</td>\n",
       "      <td>Yes</td>\n",
       "      <td>Asian</td>\n",
       "      <td>903</td>\n",
       "      <td>106.02500</td>\n",
       "      <td>6645.0</td>\n",
       "      <td>483.0</td>\n",
       "    </tr>\n",
       "    <tr>\n",
       "      <th>2</th>\n",
       "      <td>4</td>\n",
       "      <td>71</td>\n",
       "      <td>11</td>\n",
       "      <td>Male</td>\n",
       "      <td>No</td>\n",
       "      <td>No</td>\n",
       "      <td>Asian</td>\n",
       "      <td>580</td>\n",
       "      <td>104.59300</td>\n",
       "      <td>7075.0</td>\n",
       "      <td>514.0</td>\n",
       "    </tr>\n",
       "    <tr>\n",
       "      <th>3</th>\n",
       "      <td>3</td>\n",
       "      <td>36</td>\n",
       "      <td>11</td>\n",
       "      <td>Female</td>\n",
       "      <td>No</td>\n",
       "      <td>No</td>\n",
       "      <td>Asian</td>\n",
       "      <td>964</td>\n",
       "      <td>57.47075</td>\n",
       "      <td>9504.0</td>\n",
       "      <td>681.0</td>\n",
       "    </tr>\n",
       "    <tr>\n",
       "      <th>4</th>\n",
       "      <td>2</td>\n",
       "      <td>68</td>\n",
       "      <td>16</td>\n",
       "      <td>Male</td>\n",
       "      <td>No</td>\n",
       "      <td>Yes</td>\n",
       "      <td>Caucasian</td>\n",
       "      <td>331</td>\n",
       "      <td>55.88200</td>\n",
       "      <td>4897.0</td>\n",
       "      <td>357.0</td>\n",
       "    </tr>\n",
       "  </tbody>\n",
       "</table>\n",
       "</div>"
      ],
      "text/plain": [
       "   Cards  Age  Education  Gender Student Married  Ethnicity  Balance  \\\n",
       "0      2   34         11    Male      No     Yes  Caucasian      333   \n",
       "1      3   82         15  Female     Yes     Yes      Asian      903   \n",
       "2      4   71         11    Male      No      No      Asian      580   \n",
       "3      3   36         11  Female      No      No      Asian      964   \n",
       "4      2   68         16    Male      No     Yes  Caucasian      331   \n",
       "\n",
       "      income   limit  rating  \n",
       "0   14.89100  3606.0   283.0  \n",
       "1  106.02500  6645.0   483.0  \n",
       "2  104.59300  7075.0   514.0  \n",
       "3   57.47075  9504.0   681.0  \n",
       "4   55.88200  4897.0   357.0  "
      ]
     },
     "execution_count": 180,
     "metadata": {},
     "output_type": "execute_result"
    }
   ],
   "source": [
    "df.drop(columns = ['Age_Category', 'num_of_cards', 'Education_Category'], inplace = True)\n",
    "df.head()"
   ]
  },
  {
   "cell_type": "markdown",
   "id": "20a5827b",
   "metadata": {},
   "source": [
    "### above in one of cells we have seen through our visualization that distplots of Income, Limit, Rating were right skewed and also contained outliers but we have already done outliers treatment and removed columns which had outliers so we shpuld again plot histogram of these new column to analyse are they still skewed or not"
   ]
  },
  {
   "cell_type": "code",
   "execution_count": 181,
   "id": "a83f81ee",
   "metadata": {},
   "outputs": [
    {
     "data": {
      "image/png": "[encoded data removed]",
      "text/plain": [
       "<Figure size 432x288 with 1 Axes>"
      ]
     },
     "metadata": {
      "needs_background": "light"
     },
     "output_type": "display_data"
    },
    {
     "name": "stdout",
     "output_type": "stream",
     "text": [
      "skewed value for Kde plot of income is 0.9176170483343995\n"
     ]
    },
    {
     "data": {
      "image/png": "[encoded data removed]",
      "text/plain": [
       "<Figure size 432x288 with 1 Axes>"
      ]
     },
     "metadata": {
      "needs_background": "light"
     },
     "output_type": "display_data"
    },
    {
     "name": "stdout",
     "output_type": "stream",
     "text": [
      "skewed value for Kde plot of limit is 0.2786725472818347\n"
     ]
    },
    {
     "data": {
      "image/png": "[encoded data removed]",
      "text/plain": [
       "<Figure size 432x288 with 1 Axes>"
      ]
     },
     "metadata": {
      "needs_background": "light"
     },
     "output_type": "display_data"
    },
    {
     "name": "stdout",
     "output_type": "stream",
     "text": [
      "skewed value for Kde plot of rating is 0.3633619730491769\n"
     ]
    }
   ],
   "source": [
    "new_col = ['income','limit','rating']\n",
    "for i in new_col:\n",
    "    sns.distplot(df[i], color = 'green')\n",
    "    plt.show()\n",
    "    print(\"skewed value for Kde plot of\",i,\"is\",df[i].skew())"
   ]
  },
  {
   "cell_type": "markdown",
   "id": "4c587dde",
   "metadata": {},
   "source": [
    "### Insight\n",
    "from above visualization we can see that limit and rating are no more skewed now , only graph which is still skewed is income \n",
    "\n",
    "### Action \n",
    "now we will apply transformation over this column only"
   ]
  },
  {
   "cell_type": "code",
   "execution_count": 182,
   "id": "87295793",
   "metadata": {},
   "outputs": [
    {
     "name": "stdout",
     "output_type": "stream",
     "text": [
      "skewed value for Kde plot of income is  0.9176170483343995\n",
      "skewed value for Kde plot of Income is  -0.08974321388627296\n"
     ]
    },
    {
     "data": {
      "image/png": "[encoded data removed]",
      "text/plain": [
       "<Figure size 1080x576 with 2 Axes>"
      ]
     },
     "metadata": {
      "needs_background": "light"
     },
     "output_type": "display_data"
    }
   ],
   "source": [
    "df['Income'] = np.log(df['income'])\n",
    "\n",
    "plt.figure(figsize=(15, 8))\n",
    "plt.subplot(1, 2, 1)\n",
    "sns.distplot(df['income'], color='red')\n",
    "plt.title('Distplot before log transformation')\n",
    "print('skewed value for Kde plot of income is ', df['income'].skew())  # Corrected the skewness calculation\n",
    "\n",
    "plt.subplot(1, 2, 2)\n",
    "sns.distplot(df['Income'], color='brown')\n",
    "plt.title('Distplot after log transformation')\n",
    "print('skewed value for Kde plot of Income is ', df['Income'].skew())  # Corrected the skewness calculation\n",
    "\n",
    "plt.show()"
   ]
  },
  {
   "cell_type": "markdown",
   "id": "ce9464e9",
   "metadata": {},
   "source": [
    "### from above chart we can see that Income is normally distributed now"
   ]
  },
  {
   "cell_type": "markdown",
   "id": "78ef2fb5",
   "metadata": {},
   "source": [
    "Converting binary coulmns e.g {'Gender', 'Married', 'Student'} into 0 and 1 "
   ]
  },
  {
   "cell_type": "code",
   "execution_count": 183,
   "id": "cdd4e982",
   "metadata": {},
   "outputs": [
    {
     "data": {
      "text/html": [
       "<div>\n",
       "<style scoped>\n",
       "    .dataframe tbody tr th:only-of-type {\n",
       "        vertical-align: middle;\n",
       "    }\n",
       "\n",
       "    .dataframe tbody tr th {\n",
       "        vertical-align: top;\n",
       "    }\n",
       "\n",
       "    .dataframe thead th {\n",
       "        text-align: right;\n",
       "    }\n",
       "</style>\n",
       "<table border=\"1\" class=\"dataframe\">\n",
       "  <thead>\n",
       "    <tr style=\"text-align: right;\">\n",
       "      <th></th>\n",
       "      <th>Cards</th>\n",
       "      <th>Age</th>\n",
       "      <th>Education</th>\n",
       "      <th>Gender</th>\n",
       "      <th>Student</th>\n",
       "      <th>Married</th>\n",
       "      <th>Ethnicity</th>\n",
       "      <th>Balance</th>\n",
       "      <th>income</th>\n",
       "      <th>limit</th>\n",
       "      <th>rating</th>\n",
       "      <th>Income</th>\n",
       "    </tr>\n",
       "  </thead>\n",
       "  <tbody>\n",
       "    <tr>\n",
       "      <th>0</th>\n",
       "      <td>2</td>\n",
       "      <td>34</td>\n",
       "      <td>11</td>\n",
       "      <td>1</td>\n",
       "      <td>0</td>\n",
       "      <td>1</td>\n",
       "      <td>Caucasian</td>\n",
       "      <td>333</td>\n",
       "      <td>14.89100</td>\n",
       "      <td>3606.0</td>\n",
       "      <td>283.0</td>\n",
       "      <td>2.700757</td>\n",
       "    </tr>\n",
       "    <tr>\n",
       "      <th>1</th>\n",
       "      <td>3</td>\n",
       "      <td>82</td>\n",
       "      <td>15</td>\n",
       "      <td>0</td>\n",
       "      <td>1</td>\n",
       "      <td>1</td>\n",
       "      <td>Asian</td>\n",
       "      <td>903</td>\n",
       "      <td>106.02500</td>\n",
       "      <td>6645.0</td>\n",
       "      <td>483.0</td>\n",
       "      <td>4.663675</td>\n",
       "    </tr>\n",
       "    <tr>\n",
       "      <th>2</th>\n",
       "      <td>4</td>\n",
       "      <td>71</td>\n",
       "      <td>11</td>\n",
       "      <td>1</td>\n",
       "      <td>0</td>\n",
       "      <td>0</td>\n",
       "      <td>Asian</td>\n",
       "      <td>580</td>\n",
       "      <td>104.59300</td>\n",
       "      <td>7075.0</td>\n",
       "      <td>514.0</td>\n",
       "      <td>4.650077</td>\n",
       "    </tr>\n",
       "    <tr>\n",
       "      <th>3</th>\n",
       "      <td>3</td>\n",
       "      <td>36</td>\n",
       "      <td>11</td>\n",
       "      <td>0</td>\n",
       "      <td>0</td>\n",
       "      <td>0</td>\n",
       "      <td>Asian</td>\n",
       "      <td>964</td>\n",
       "      <td>57.47075</td>\n",
       "      <td>9504.0</td>\n",
       "      <td>681.0</td>\n",
       "      <td>4.051276</td>\n",
       "    </tr>\n",
       "    <tr>\n",
       "      <th>4</th>\n",
       "      <td>2</td>\n",
       "      <td>68</td>\n",
       "      <td>16</td>\n",
       "      <td>1</td>\n",
       "      <td>0</td>\n",
       "      <td>1</td>\n",
       "      <td>Caucasian</td>\n",
       "      <td>331</td>\n",
       "      <td>55.88200</td>\n",
       "      <td>4897.0</td>\n",
       "      <td>357.0</td>\n",
       "      <td>4.023242</td>\n",
       "    </tr>\n",
       "  </tbody>\n",
       "</table>\n",
       "</div>"
      ],
      "text/plain": [
       "   Cards  Age  Education  Gender  Student  Married  Ethnicity  Balance  \\\n",
       "0      2   34         11       1        0        1  Caucasian      333   \n",
       "1      3   82         15       0        1        1      Asian      903   \n",
       "2      4   71         11       1        0        0      Asian      580   \n",
       "3      3   36         11       0        0        0      Asian      964   \n",
       "4      2   68         16       1        0        1  Caucasian      331   \n",
       "\n",
       "      income   limit  rating    Income  \n",
       "0   14.89100  3606.0   283.0  2.700757  \n",
       "1  106.02500  6645.0   483.0  4.663675  \n",
       "2  104.59300  7075.0   514.0  4.650077  \n",
       "3   57.47075  9504.0   681.0  4.051276  \n",
       "4   55.88200  4897.0   357.0  4.023242  "
      ]
     },
     "execution_count": 183,
     "metadata": {},
     "output_type": "execute_result"
    }
   ],
   "source": [
    "df['Gender'].replace({' Male': 1, 'Female': 0}, inplace=True)\n",
    "df['Student'].replace({'Yes': 1, 'No': 0}, inplace=True)\n",
    "df['Married'].replace({'Yes': 1, 'No': 0}, inplace=True)\n",
    "\n",
    "# Print the DataFrame with binary categorical columns converted to 0 and 1\n",
    "df.head()"
   ]
  },
  {
   "cell_type": "code",
   "execution_count": 184,
   "id": "0fd61691",
   "metadata": {},
   "outputs": [
    {
     "data": {
      "text/html": [
       "<div>\n",
       "<style scoped>\n",
       "    .dataframe tbody tr th:only-of-type {\n",
       "        vertical-align: middle;\n",
       "    }\n",
       "\n",
       "    .dataframe tbody tr th {\n",
       "        vertical-align: top;\n",
       "    }\n",
       "\n",
       "    .dataframe thead th {\n",
       "        text-align: right;\n",
       "    }\n",
       "</style>\n",
       "<table border=\"1\" class=\"dataframe\">\n",
       "  <thead>\n",
       "    <tr style=\"text-align: right;\">\n",
       "      <th></th>\n",
       "      <th>Cards</th>\n",
       "      <th>Age</th>\n",
       "      <th>Education</th>\n",
       "      <th>Gender</th>\n",
       "      <th>Student</th>\n",
       "      <th>Married</th>\n",
       "      <th>Balance</th>\n",
       "      <th>income</th>\n",
       "      <th>limit</th>\n",
       "      <th>rating</th>\n",
       "      <th>Income</th>\n",
       "      <th>Ethnicity_African American</th>\n",
       "      <th>Ethnicity_Asian</th>\n",
       "      <th>Ethnicity_Caucasian</th>\n",
       "    </tr>\n",
       "  </thead>\n",
       "  <tbody>\n",
       "    <tr>\n",
       "      <th>0</th>\n",
       "      <td>2</td>\n",
       "      <td>34</td>\n",
       "      <td>11</td>\n",
       "      <td>1</td>\n",
       "      <td>0</td>\n",
       "      <td>1</td>\n",
       "      <td>333</td>\n",
       "      <td>14.89100</td>\n",
       "      <td>3606.0</td>\n",
       "      <td>283.0</td>\n",
       "      <td>2.700757</td>\n",
       "      <td>0.0</td>\n",
       "      <td>0.0</td>\n",
       "      <td>1.0</td>\n",
       "    </tr>\n",
       "    <tr>\n",
       "      <th>1</th>\n",
       "      <td>3</td>\n",
       "      <td>82</td>\n",
       "      <td>15</td>\n",
       "      <td>0</td>\n",
       "      <td>1</td>\n",
       "      <td>1</td>\n",
       "      <td>903</td>\n",
       "      <td>106.02500</td>\n",
       "      <td>6645.0</td>\n",
       "      <td>483.0</td>\n",
       "      <td>4.663675</td>\n",
       "      <td>0.0</td>\n",
       "      <td>1.0</td>\n",
       "      <td>0.0</td>\n",
       "    </tr>\n",
       "    <tr>\n",
       "      <th>2</th>\n",
       "      <td>4</td>\n",
       "      <td>71</td>\n",
       "      <td>11</td>\n",
       "      <td>1</td>\n",
       "      <td>0</td>\n",
       "      <td>0</td>\n",
       "      <td>580</td>\n",
       "      <td>104.59300</td>\n",
       "      <td>7075.0</td>\n",
       "      <td>514.0</td>\n",
       "      <td>4.650077</td>\n",
       "      <td>0.0</td>\n",
       "      <td>1.0</td>\n",
       "      <td>0.0</td>\n",
       "    </tr>\n",
       "    <tr>\n",
       "      <th>3</th>\n",
       "      <td>3</td>\n",
       "      <td>36</td>\n",
       "      <td>11</td>\n",
       "      <td>0</td>\n",
       "      <td>0</td>\n",
       "      <td>0</td>\n",
       "      <td>964</td>\n",
       "      <td>57.47075</td>\n",
       "      <td>9504.0</td>\n",
       "      <td>681.0</td>\n",
       "      <td>4.051276</td>\n",
       "      <td>0.0</td>\n",
       "      <td>1.0</td>\n",
       "      <td>0.0</td>\n",
       "    </tr>\n",
       "    <tr>\n",
       "      <th>4</th>\n",
       "      <td>2</td>\n",
       "      <td>68</td>\n",
       "      <td>16</td>\n",
       "      <td>1</td>\n",
       "      <td>0</td>\n",
       "      <td>1</td>\n",
       "      <td>331</td>\n",
       "      <td>55.88200</td>\n",
       "      <td>4897.0</td>\n",
       "      <td>357.0</td>\n",
       "      <td>4.023242</td>\n",
       "      <td>0.0</td>\n",
       "      <td>0.0</td>\n",
       "      <td>1.0</td>\n",
       "    </tr>\n",
       "  </tbody>\n",
       "</table>\n",
       "</div>"
      ],
      "text/plain": [
       "   Cards  Age  Education  Gender  Student  Married  Balance     income  \\\n",
       "0      2   34         11       1        0        1      333   14.89100   \n",
       "1      3   82         15       0        1        1      903  106.02500   \n",
       "2      4   71         11       1        0        0      580  104.59300   \n",
       "3      3   36         11       0        0        0      964   57.47075   \n",
       "4      2   68         16       1        0        1      331   55.88200   \n",
       "\n",
       "    limit  rating    Income  Ethnicity_African American  Ethnicity_Asian  \\\n",
       "0  3606.0   283.0  2.700757                         0.0              0.0   \n",
       "1  6645.0   483.0  4.663675                         0.0              1.0   \n",
       "2  7075.0   514.0  4.650077                         0.0              1.0   \n",
       "3  9504.0   681.0  4.051276                         0.0              1.0   \n",
       "4  4897.0   357.0  4.023242                         0.0              0.0   \n",
       "\n",
       "   Ethnicity_Caucasian  \n",
       "0                  1.0  \n",
       "1                  0.0  \n",
       "2                  0.0  \n",
       "3                  0.0  \n",
       "4                  1.0  "
      ]
     },
     "execution_count": 184,
     "metadata": {},
     "output_type": "execute_result"
    }
   ],
   "source": [
    "from sklearn.preprocessing import OneHotEncoder\n",
    "\n",
    "# Create an instance of the OneHotEncoder class\n",
    "encoder = OneHotEncoder()\n",
    "\n",
    "# Specify the column(s) to be one-hot encoded\n",
    "columns_to_encode = ['Ethnicity']\n",
    "\n",
    "# Fit and transform the selected column(s) with one-hot encoding\n",
    "one_hot_encoded_data = encoder.fit_transform(df[columns_to_encode])\n",
    "\n",
    "# Convert the sparse matrix to a DataFrame\n",
    "df_encoded = pd.DataFrame(one_hot_encoded_data.toarray(), columns=encoder.get_feature_names(columns_to_encode))\n",
    "\n",
    "# Concatenate the encoded DataFrame with the original DataFrame (excluding the columns to be encoded)\n",
    "df_encoded = pd.concat([df.drop(columns=columns_to_encode), df_encoded], axis=1)\n",
    "\n",
    "# Print the DataFrame with one-hot encoded columns\n",
    "df_encoded.head()"
   ]
  },
  {
   "cell_type": "markdown",
   "id": "525ecaab",
   "metadata": {},
   "source": [
    "### Observation\n",
    "in above dataframe we can see that our dependant variable 'Balance' is in between other feature while for better visualization it should be at last index \n",
    "\n",
    "### Action \n",
    "we will rearange column order for better visualization"
   ]
  },
  {
   "cell_type": "code",
   "execution_count": 185,
   "id": "c16050af",
   "metadata": {},
   "outputs": [
    {
     "data": {
      "text/html": [
       "<div>\n",
       "<style scoped>\n",
       "    .dataframe tbody tr th:only-of-type {\n",
       "        vertical-align: middle;\n",
       "    }\n",
       "\n",
       "    .dataframe tbody tr th {\n",
       "        vertical-align: top;\n",
       "    }\n",
       "\n",
       "    .dataframe thead th {\n",
       "        text-align: right;\n",
       "    }\n",
       "</style>\n",
       "<table border=\"1\" class=\"dataframe\">\n",
       "  <thead>\n",
       "    <tr style=\"text-align: right;\">\n",
       "      <th></th>\n",
       "      <th>Cards</th>\n",
       "      <th>Age</th>\n",
       "      <th>Education</th>\n",
       "      <th>Gender</th>\n",
       "      <th>Student</th>\n",
       "      <th>Married</th>\n",
       "      <th>Income</th>\n",
       "      <th>limit</th>\n",
       "      <th>rating</th>\n",
       "      <th>Ethnicity_African American</th>\n",
       "      <th>Ethnicity_Asian</th>\n",
       "      <th>Ethnicity_Caucasian</th>\n",
       "      <th>Balance</th>\n",
       "    </tr>\n",
       "  </thead>\n",
       "  <tbody>\n",
       "    <tr>\n",
       "      <th>0</th>\n",
       "      <td>2</td>\n",
       "      <td>34</td>\n",
       "      <td>11</td>\n",
       "      <td>1</td>\n",
       "      <td>0</td>\n",
       "      <td>1</td>\n",
       "      <td>2.700757</td>\n",
       "      <td>3606.0</td>\n",
       "      <td>283.0</td>\n",
       "      <td>0.0</td>\n",
       "      <td>0.0</td>\n",
       "      <td>1.0</td>\n",
       "      <td>333</td>\n",
       "    </tr>\n",
       "    <tr>\n",
       "      <th>1</th>\n",
       "      <td>3</td>\n",
       "      <td>82</td>\n",
       "      <td>15</td>\n",
       "      <td>0</td>\n",
       "      <td>1</td>\n",
       "      <td>1</td>\n",
       "      <td>4.663675</td>\n",
       "      <td>6645.0</td>\n",
       "      <td>483.0</td>\n",
       "      <td>0.0</td>\n",
       "      <td>1.0</td>\n",
       "      <td>0.0</td>\n",
       "      <td>903</td>\n",
       "    </tr>\n",
       "    <tr>\n",
       "      <th>2</th>\n",
       "      <td>4</td>\n",
       "      <td>71</td>\n",
       "      <td>11</td>\n",
       "      <td>1</td>\n",
       "      <td>0</td>\n",
       "      <td>0</td>\n",
       "      <td>4.650077</td>\n",
       "      <td>7075.0</td>\n",
       "      <td>514.0</td>\n",
       "      <td>0.0</td>\n",
       "      <td>1.0</td>\n",
       "      <td>0.0</td>\n",
       "      <td>580</td>\n",
       "    </tr>\n",
       "    <tr>\n",
       "      <th>3</th>\n",
       "      <td>3</td>\n",
       "      <td>36</td>\n",
       "      <td>11</td>\n",
       "      <td>0</td>\n",
       "      <td>0</td>\n",
       "      <td>0</td>\n",
       "      <td>4.051276</td>\n",
       "      <td>9504.0</td>\n",
       "      <td>681.0</td>\n",
       "      <td>0.0</td>\n",
       "      <td>1.0</td>\n",
       "      <td>0.0</td>\n",
       "      <td>964</td>\n",
       "    </tr>\n",
       "    <tr>\n",
       "      <th>4</th>\n",
       "      <td>2</td>\n",
       "      <td>68</td>\n",
       "      <td>16</td>\n",
       "      <td>1</td>\n",
       "      <td>0</td>\n",
       "      <td>1</td>\n",
       "      <td>4.023242</td>\n",
       "      <td>4897.0</td>\n",
       "      <td>357.0</td>\n",
       "      <td>0.0</td>\n",
       "      <td>0.0</td>\n",
       "      <td>1.0</td>\n",
       "      <td>331</td>\n",
       "    </tr>\n",
       "  </tbody>\n",
       "</table>\n",
       "</div>"
      ],
      "text/plain": [
       "   Cards  Age  Education  Gender  Student  Married    Income   limit  rating  \\\n",
       "0      2   34         11       1        0        1  2.700757  3606.0   283.0   \n",
       "1      3   82         15       0        1        1  4.663675  6645.0   483.0   \n",
       "2      4   71         11       1        0        0  4.650077  7075.0   514.0   \n",
       "3      3   36         11       0        0        0  4.051276  9504.0   681.0   \n",
       "4      2   68         16       1        0        1  4.023242  4897.0   357.0   \n",
       "\n",
       "   Ethnicity_African American  Ethnicity_Asian  Ethnicity_Caucasian  Balance  \n",
       "0                         0.0              0.0                  1.0      333  \n",
       "1                         0.0              1.0                  0.0      903  \n",
       "2                         0.0              1.0                  0.0      580  \n",
       "3                         0.0              1.0                  0.0      964  \n",
       "4                         0.0              0.0                  1.0      331  "
      ]
     },
     "execution_count": 185,
     "metadata": {},
     "output_type": "execute_result"
    }
   ],
   "source": [
    "neworder = ['Cards', 'Age', 'Education', 'Gender', 'Student', 'Married',\n",
    "       'Income', 'limit', 'rating', 'Ethnicity_African American',\n",
    "       'Ethnicity_Asian', 'Ethnicity_Caucasian','Balance']\n",
    "\n",
    "df_encoded=df_encoded.reindex(columns=neworder)\n",
    "\n",
    "df_encoded.head()"
   ]
  },
  {
   "cell_type": "code",
   "execution_count": 186,
   "id": "1cf06748",
   "metadata": {},
   "outputs": [
    {
     "data": {
      "image/png": "[encoded data removed]",
      "text/plain": [
       "<Figure size 1440x1080 with 2 Axes>"
      ]
     },
     "metadata": {
      "needs_background": "light"
     },
     "output_type": "display_data"
    }
   ],
   "source": [
    "plt.figure(figsize=(20, 15))\n",
    "sns.heatmap(df_encoded.corr(), annot=True, cmap='viridis')\n",
    "plt.show()"
   ]
  },
  {
   "cell_type": "markdown",
   "id": "6c51e18d",
   "metadata": {},
   "source": [
    "### Model - 1\n",
    "#### Defining our dependent and independent variables"
   ]
  },
  {
   "cell_type": "code",
   "execution_count": 187,
   "id": "97bc68fd",
   "metadata": {},
   "outputs": [],
   "source": [
    "X = df_encoded[['Cards', 'Age', 'Education', 'Gender', 'Student', 'Married',\n",
    "       'Income', 'limit', 'rating', 'Ethnicity_African American',\n",
    "       'Ethnicity_Asian', 'Ethnicity_Caucasian']]\n",
    "\n",
    "y = df_encoded['Balance']"
   ]
  },
  {
   "cell_type": "markdown",
   "id": "506b9d1d",
   "metadata": {},
   "source": [
    "### Splitting X and y into train, test and validation dataset"
   ]
  },
  {
   "cell_type": "code",
   "execution_count": 188,
   "id": "0f0d4c7b",
   "metadata": {},
   "outputs": [],
   "source": [
    "from sklearn.model_selection import train_test_split\n",
    "\n",
    "X_train, X_test, y_train, y_test = train_test_split(X,y, test_size=0.2, random_state=42)"
   ]
  },
  {
   "cell_type": "markdown",
   "id": "b4c6e52b",
   "metadata": {},
   "source": [
    "### Scaling numerical features except those which are already in form of 0 and 1 "
   ]
  },
  {
   "cell_type": "code",
   "execution_count": 189,
   "id": "0674e00a",
   "metadata": {},
   "outputs": [],
   "source": [
    "from sklearn.preprocessing import StandardScaler\n",
    "\n",
    "# Identify the binary columns and numerical columns\n",
    "binary_columns = ['Gender', 'Student', 'Married', 'Ethnicity_African_American', 'Ethnicity_Asian', 'Ethnicity_Caucasian']\n",
    "numerical_columns = [col for col in X_train.columns if col not in binary_columns]\n",
    "\n",
    "# Create a StandardScaler object\n",
    "scaler = StandardScaler()\n",
    "\n",
    "# Fit the scaler on the training data for the numerical columns and transform it\n",
    "X_train_scaled = X_train.copy()\n",
    "X_train_scaled[numerical_columns] = scaler.fit_transform(X_train[numerical_columns])\n",
    "\n",
    "\n",
    "X_test_scaled = X_test.copy()\n",
    "X_test_scaled[numerical_columns] = scaler.transform(X_test[numerical_columns])\n",
    "\n",
    "# Now, X_train_scaled, X_val_scaled, and X_test_scaled contain the scaled numerical features,\n",
    "# and the binary columns remain unchanged"
   ]
  },
  {
   "cell_type": "code",
   "execution_count": 190,
   "id": "059774db",
   "metadata": {},
   "outputs": [
    {
     "data": {
      "text/html": [
       "<div>\n",
       "<style scoped>\n",
       "    .dataframe tbody tr th:only-of-type {\n",
       "        vertical-align: middle;\n",
       "    }\n",
       "\n",
       "    .dataframe tbody tr th {\n",
       "        vertical-align: top;\n",
       "    }\n",
       "\n",
       "    .dataframe thead th {\n",
       "        text-align: right;\n",
       "    }\n",
       "</style>\n",
       "<table border=\"1\" class=\"dataframe\">\n",
       "  <thead>\n",
       "    <tr style=\"text-align: right;\">\n",
       "      <th></th>\n",
       "      <th>Cards</th>\n",
       "      <th>Age</th>\n",
       "      <th>Education</th>\n",
       "      <th>Gender</th>\n",
       "      <th>Student</th>\n",
       "      <th>Married</th>\n",
       "      <th>Income</th>\n",
       "      <th>limit</th>\n",
       "      <th>rating</th>\n",
       "      <th>Ethnicity_African American</th>\n",
       "      <th>Ethnicity_Asian</th>\n",
       "      <th>Ethnicity_Caucasian</th>\n",
       "    </tr>\n",
       "  </thead>\n",
       "  <tbody>\n",
       "    <tr>\n",
       "      <th>3</th>\n",
       "      <td>0.047314</td>\n",
       "      <td>-1.215921</td>\n",
       "      <td>-0.794032</td>\n",
       "      <td>0</td>\n",
       "      <td>0</td>\n",
       "      <td>0</td>\n",
       "      <td>0.951803</td>\n",
       "      <td>2.490674</td>\n",
       "      <td>2.464646</td>\n",
       "      <td>-0.582162</td>\n",
       "      <td>1.0</td>\n",
       "      <td>0.0</td>\n",
       "    </tr>\n",
       "    <tr>\n",
       "      <th>18</th>\n",
       "      <td>-1.394629</td>\n",
       "      <td>-1.688912</td>\n",
       "      <td>-1.426098</td>\n",
       "      <td>0</td>\n",
       "      <td>0</td>\n",
       "      <td>1</td>\n",
       "      <td>0.698426</td>\n",
       "      <td>0.932697</td>\n",
       "      <td>0.768366</td>\n",
       "      <td>-0.582162</td>\n",
       "      <td>1.0</td>\n",
       "      <td>0.0</td>\n",
       "    </tr>\n",
       "    <tr>\n",
       "      <th>202</th>\n",
       "      <td>-0.673658</td>\n",
       "      <td>0.084806</td>\n",
       "      <td>-0.161967</td>\n",
       "      <td>0</td>\n",
       "      <td>0</td>\n",
       "      <td>1</td>\n",
       "      <td>-0.769943</td>\n",
       "      <td>-1.532103</td>\n",
       "      <td>-1.437527</td>\n",
       "      <td>-0.582162</td>\n",
       "      <td>0.0</td>\n",
       "      <td>1.0</td>\n",
       "    </tr>\n",
       "    <tr>\n",
       "      <th>250</th>\n",
       "      <td>-0.673658</td>\n",
       "      <td>-0.565557</td>\n",
       "      <td>1.418197</td>\n",
       "      <td>0</td>\n",
       "      <td>0</td>\n",
       "      <td>1</td>\n",
       "      <td>-1.983092</td>\n",
       "      <td>-1.041740</td>\n",
       "      <td>-1.102639</td>\n",
       "      <td>-0.582162</td>\n",
       "      <td>1.0</td>\n",
       "      <td>0.0</td>\n",
       "    </tr>\n",
       "    <tr>\n",
       "      <th>274</th>\n",
       "      <td>1.489256</td>\n",
       "      <td>1.444656</td>\n",
       "      <td>-1.426098</td>\n",
       "      <td>0</td>\n",
       "      <td>0</td>\n",
       "      <td>0</td>\n",
       "      <td>-0.130834</td>\n",
       "      <td>0.675531</td>\n",
       "      <td>0.702844</td>\n",
       "      <td>1.717736</td>\n",
       "      <td>0.0</td>\n",
       "      <td>0.0</td>\n",
       "    </tr>\n",
       "    <tr>\n",
       "      <th>...</th>\n",
       "      <td>...</td>\n",
       "      <td>...</td>\n",
       "      <td>...</td>\n",
       "      <td>...</td>\n",
       "      <td>...</td>\n",
       "      <td>...</td>\n",
       "      <td>...</td>\n",
       "      <td>...</td>\n",
       "      <td>...</td>\n",
       "      <td>...</td>\n",
       "      <td>...</td>\n",
       "      <td>...</td>\n",
       "    </tr>\n",
       "    <tr>\n",
       "      <th>71</th>\n",
       "      <td>-0.673658</td>\n",
       "      <td>1.444656</td>\n",
       "      <td>-0.478000</td>\n",
       "      <td>0</td>\n",
       "      <td>0</td>\n",
       "      <td>1</td>\n",
       "      <td>0.990424</td>\n",
       "      <td>1.441037</td>\n",
       "      <td>1.423581</td>\n",
       "      <td>-0.582162</td>\n",
       "      <td>1.0</td>\n",
       "      <td>0.0</td>\n",
       "    </tr>\n",
       "    <tr>\n",
       "      <th>106</th>\n",
       "      <td>-0.673658</td>\n",
       "      <td>1.030789</td>\n",
       "      <td>0.470099</td>\n",
       "      <td>1</td>\n",
       "      <td>0</td>\n",
       "      <td>1</td>\n",
       "      <td>-1.153410</td>\n",
       "      <td>-1.587531</td>\n",
       "      <td>-1.655933</td>\n",
       "      <td>-0.582162</td>\n",
       "      <td>1.0</td>\n",
       "      <td>0.0</td>\n",
       "    </tr>\n",
       "    <tr>\n",
       "      <th>270</th>\n",
       "      <td>-1.394629</td>\n",
       "      <td>-1.038549</td>\n",
       "      <td>-0.161967</td>\n",
       "      <td>1</td>\n",
       "      <td>0</td>\n",
       "      <td>0</td>\n",
       "      <td>-1.253347</td>\n",
       "      <td>-0.714664</td>\n",
       "      <td>-0.913355</td>\n",
       "      <td>-0.582162</td>\n",
       "      <td>0.0</td>\n",
       "      <td>1.0</td>\n",
       "    </tr>\n",
       "    <tr>\n",
       "      <th>348</th>\n",
       "      <td>0.047314</td>\n",
       "      <td>0.794293</td>\n",
       "      <td>0.154066</td>\n",
       "      <td>1</td>\n",
       "      <td>0</td>\n",
       "      <td>1</td>\n",
       "      <td>-1.538545</td>\n",
       "      <td>-1.688899</td>\n",
       "      <td>-1.677773</td>\n",
       "      <td>-0.582162</td>\n",
       "      <td>0.0</td>\n",
       "      <td>1.0</td>\n",
       "    </tr>\n",
       "    <tr>\n",
       "      <th>102</th>\n",
       "      <td>-0.673658</td>\n",
       "      <td>-0.033442</td>\n",
       "      <td>0.786132</td>\n",
       "      <td>1</td>\n",
       "      <td>1</td>\n",
       "      <td>0</td>\n",
       "      <td>1.257900</td>\n",
       "      <td>1.530920</td>\n",
       "      <td>1.372620</td>\n",
       "      <td>-0.582162</td>\n",
       "      <td>0.0</td>\n",
       "      <td>1.0</td>\n",
       "    </tr>\n",
       "  </tbody>\n",
       "</table>\n",
       "<p>320 rows × 12 columns</p>\n",
       "</div>"
      ],
      "text/plain": [
       "        Cards       Age  Education  Gender  Student  Married    Income  \\\n",
       "3    0.047314 -1.215921  -0.794032       0        0        0  0.951803   \n",
       "18  -1.394629 -1.688912  -1.426098       0        0        1  0.698426   \n",
       "202 -0.673658  0.084806  -0.161967       0        0        1 -0.769943   \n",
       "250 -0.673658 -0.565557   1.418197       0        0        1 -1.983092   \n",
       "274  1.489256  1.444656  -1.426098       0        0        0 -0.130834   \n",
       "..        ...       ...        ...     ...      ...      ...       ...   \n",
       "71  -0.673658  1.444656  -0.478000       0        0        1  0.990424   \n",
       "106 -0.673658  1.030789   0.470099       1        0        1 -1.153410   \n",
       "270 -1.394629 -1.038549  -0.161967       1        0        0 -1.253347   \n",
       "348  0.047314  0.794293   0.154066       1        0        1 -1.538545   \n",
       "102 -0.673658 -0.033442   0.786132       1        1        0  1.257900   \n",
       "\n",
       "        limit    rating  Ethnicity_African American  Ethnicity_Asian  \\\n",
       "3    2.490674  2.464646                   -0.582162              1.0   \n",
       "18   0.932697  0.768366                   -0.582162              1.0   \n",
       "202 -1.532103 -1.437527                   -0.582162              0.0   \n",
       "250 -1.041740 -1.102639                   -0.582162              1.0   \n",
       "274  0.675531  0.702844                    1.717736              0.0   \n",
       "..        ...       ...                         ...              ...   \n",
       "71   1.441037  1.423581                   -0.582162              1.0   \n",
       "106 -1.587531 -1.655933                   -0.582162              1.0   \n",
       "270 -0.714664 -0.913355                   -0.582162              0.0   \n",
       "348 -1.688899 -1.677773                   -0.582162              0.0   \n",
       "102  1.530920  1.372620                   -0.582162              0.0   \n",
       "\n",
       "     Ethnicity_Caucasian  \n",
       "3                    0.0  \n",
       "18                   0.0  \n",
       "202                  1.0  \n",
       "250                  0.0  \n",
       "274                  0.0  \n",
       "..                   ...  \n",
       "71                   0.0  \n",
       "106                  0.0  \n",
       "270                  1.0  \n",
       "348                  1.0  \n",
       "102                  1.0  \n",
       "\n",
       "[320 rows x 12 columns]"
      ]
     },
     "execution_count": 190,
     "metadata": {},
     "output_type": "execute_result"
    }
   ],
   "source": [
    "X_train_scaled"
   ]
  },
  {
   "cell_type": "markdown",
   "id": "3b5c43d6",
   "metadata": {},
   "source": [
    "### Training our Linear Regression model"
   ]
  },
  {
   "cell_type": "code",
   "execution_count": 191,
   "id": "40664351",
   "metadata": {},
   "outputs": [
    {
     "name": "stdout",
     "output_type": "stream",
     "text": [
      "                            OLS Regression Results                            \n",
      "==============================================================================\n",
      "Dep. Variable:                Balance   R-squared:                       0.772\n",
      "Model:                            OLS   Adj. R-squared:                  0.764\n",
      "Method:                 Least Squares   F-statistic:                     94.99\n",
      "Date:                Sun, 30 Jul 2023   Prob (F-statistic):           4.77e-92\n",
      "Time:                        12:44:51   Log-Likelihood:                -2186.8\n",
      "No. Observations:                 320   AIC:                             4398.\n",
      "Df Residuals:                     308   BIC:                             4443.\n",
      "Df Model:                          11                                         \n",
      "Covariance Type:            nonrobust                                         \n",
      "==============================================================================================\n",
      "                                 coef    std err          t      P>|t|      [0.025      0.975]\n",
      "----------------------------------------------------------------------------------------------\n",
      "const                        381.7086     19.952     19.132      0.000     342.450     420.968\n",
      "Cards                         23.0454     13.318      1.730      0.085      -3.159      49.250\n",
      "Age                           -8.8916     13.157     -0.676      0.500     -34.781      16.998\n",
      "Education                     -7.7490     12.993     -0.596      0.551     -33.316      17.818\n",
      "Gender                        -7.1343     25.740     -0.277      0.782     -57.784      43.515\n",
      "Student                      358.9062     44.468      8.071      0.000     271.407     446.405\n",
      "Married                       16.9551     26.718      0.635      0.526     -35.618      69.529\n",
      "Income                      -112.5194     16.695     -6.740      0.000    -145.371     -79.668\n",
      "limit                        206.5374     71.949      2.871      0.004      64.964     348.111\n",
      "rating                       251.4952     71.709      3.507      0.001     110.393     392.597\n",
      "Ethnicity_African American    68.8367     12.265      5.612      0.000      44.702      92.971\n",
      "Ethnicity_Asian              121.1899     18.694      6.483      0.000      84.406     157.974\n",
      "Ethnicity_Caucasian          133.9683     15.804      8.477      0.000     102.871     165.066\n",
      "==============================================================================\n",
      "Omnibus:                      156.696   Durbin-Watson:                   2.098\n",
      "Prob(Omnibus):                  0.000   Jarque-Bera (JB):             1419.015\n",
      "Skew:                           1.803   Prob(JB):                    7.33e-309\n",
      "Kurtosis:                      12.666   Cond. No.                     6.22e+15\n",
      "==============================================================================\n",
      "\n",
      "Notes:\n",
      "[1] Standard Errors assume that the covariance matrix of the errors is correctly specified.\n",
      "[2] The smallest eigenvalue is 2.09e-29. This might indicate that there are\n",
      "strong multicollinearity problems or that the design matrix is singular.\n"
     ]
    }
   ],
   "source": [
    "import statsmodels.api as sm\n",
    "\n",
    "# Add a constant column to the scaled training data\n",
    "X_train_scaled_const = sm.add_constant(X_train_scaled)\n",
    "\n",
    "# Create and fit the linear regression model using OLS (Ordinary Least Squares)\n",
    "model = sm.OLS(y_train, X_train_scaled_const)\n",
    "results = model.fit()\n",
    "\n",
    "# Print the summary of the model\n",
    "print(results.summary())\n",
    "\n",
    "# Add a constant column to the scaled test data\n",
    "X_test_scaled_const = sm.add_constant(X_test_scaled)\n",
    "\n",
    "# Make predictions on test data using the fitted model\n",
    "y_test_pred = results.predict(X_test_scaled_const)"
   ]
  },
  {
   "cell_type": "markdown",
   "id": "d1f1d9b9",
   "metadata": {},
   "source": [
    "### Checking model performance metrics on Training, validation and Test data"
   ]
  },
  {
   "cell_type": "code",
   "execution_count": 192,
   "id": "54c11b28",
   "metadata": {},
   "outputs": [
    {
     "name": "stdout",
     "output_type": "stream",
     "text": [
      "Training Set:\n",
      "MSE: 50490.21, RMSE: 224.70, R-squared: 0.77\n",
      "\n",
      "Test Set:\n",
      "MSE: 42391.99, RMSE: 205.89, R-squared: 0.75\n"
     ]
    }
   ],
   "source": [
    "from sklearn.metrics import mean_squared_error, r2_score\n",
    "\n",
    "# Calculate metrics for each model\n",
    "def evaluate_model(y_true, y_pred):\n",
    "    mse = mean_squared_error(y_true, y_pred)\n",
    "    rmse = np.sqrt(mse)\n",
    "    r2 = r2_score(y_true, y_pred)\n",
    "    return mse, rmse, r2\n",
    "\n",
    "# Evaluate the training set\n",
    "y_train_pred = results.predict(X_train_scaled_const)\n",
    "train_mse, train_rmse, train_r2 = evaluate_model(y_train, y_train_pred)\n",
    "\n",
    "# Evaluate the test set\n",
    "y_test_pred = results.predict(X_test_scaled_const)\n",
    "test_mse, test_rmse, test_r2 = evaluate_model(y_test, y_test_pred)\n",
    "\n",
    "# Print the results\n",
    "print(\"Training Set:\")\n",
    "print(f\"MSE: {train_mse:.2f}, RMSE: {train_rmse:.2f}, R-squared: {train_r2:.2f}\")\n",
    "\n",
    "print(\"\\nTest Set:\")\n",
    "print(f\"MSE: {test_mse:.2f}, RMSE: {test_rmse:.2f}, R-squared: {test_r2:.2f}\")\n"
   ]
  },
  {
   "cell_type": "markdown",
   "id": "1ca58336",
   "metadata": {},
   "source": [
    "### Checking VIF values for each feature for Better understanding of multicolinearity between Features "
   ]
  },
  {
   "cell_type": "code",
   "execution_count": 193,
   "id": "485aec2d",
   "metadata": {
    "scrolled": true
   },
   "outputs": [
    {
     "name": "stdout",
     "output_type": "stream",
     "text": [
      "                       Feature        VIF\n",
      "0                        Cards   1.067844\n",
      "1                          Age   1.045684\n",
      "2                    Education   1.016526\n",
      "3                       Gender   1.008554\n",
      "4                      Student   1.021954\n",
      "5                      Married   1.030861\n",
      "6                       Income   1.656307\n",
      "7                        limit  36.190627\n",
      "8                       rating  35.878479\n",
      "9   Ethnicity_African American  19.750773\n",
      "10             Ethnicity_Asian  20.003000\n",
      "11         Ethnicity_Caucasian  38.255280\n"
     ]
    }
   ],
   "source": [
    "from statsmodels.stats.outliers_influence import variance_inflation_factor\n",
    "\n",
    "vif_data = pd.DataFrame()\n",
    "vif_data['Feature'] = X.columns\n",
    "vif_data['VIF'] = [variance_inflation_factor(X.values, i)\n",
    "                   for i in range(X.shape[1])]\n",
    "\n",
    "print(vif_data)"
   ]
  },
  {
   "cell_type": "markdown",
   "id": "3c035418",
   "metadata": {},
   "source": [
    "### Model - 2\n",
    "### Re-defining X and y after removing few features with high VIF values "
   ]
  },
  {
   "cell_type": "code",
   "execution_count": 194,
   "id": "76bd7de8",
   "metadata": {},
   "outputs": [],
   "source": [
    "X = df_encoded[['Cards', 'Age', 'Education', 'Gender', 'Student', 'Married',\n",
    "       'Income', 'limit', 'rating', 'Ethnicity_African American',\n",
    "       'Ethnicity_Asian']]\n",
    "\n",
    "y = df_encoded['Balance']"
   ]
  },
  {
   "cell_type": "markdown",
   "id": "60c1ace2",
   "metadata": {},
   "source": [
    "### Performing train test split on X and y"
   ]
  },
  {
   "cell_type": "code",
   "execution_count": 195,
   "id": "1a367484",
   "metadata": {},
   "outputs": [],
   "source": [
    "from sklearn.model_selection import train_test_split\n",
    "\n",
    "X_train, X_test, y_train, y_test = train_test_split(X,y, test_size=0.2, random_state=42)"
   ]
  },
  {
   "cell_type": "markdown",
   "id": "5689e50a",
   "metadata": {},
   "source": [
    "### Scaling Features in X_train and X_test data using Standard scaler"
   ]
  },
  {
   "cell_type": "code",
   "execution_count": 196,
   "id": "376da059",
   "metadata": {},
   "outputs": [],
   "source": [
    "from sklearn.preprocessing import StandardScaler\n",
    "\n",
    "# Identify the binary columns and numerical columns\n",
    "binary_columns = ['Gender', 'Student', 'Married', 'Ethnicity_African_American', 'Ethnicity_Asian', 'Ethnicity_Caucasian']\n",
    "numerical_columns = [col for col in X_train.columns if col not in binary_columns]\n",
    "\n",
    "# Create a StandardScaler object\n",
    "scaler = StandardScaler()\n",
    "\n",
    "# Fit the scaler on the training data for the numerical columns and transform it\n",
    "X_train_scaled = X_train.copy()\n",
    "X_train_scaled[numerical_columns] = scaler.fit_transform(X_train[numerical_columns])\n",
    "\n",
    "X_test_scaled = X_test.copy()\n",
    "X_test_scaled[numerical_columns] = scaler.transform(X_test[numerical_columns])\n",
    "\n",
    "# Now, X_train_scaled, X_val_scaled, and X_test_scaled contain the scaled numerical features,\n",
    "# and the binary columns remain unchanged"
   ]
  },
  {
   "cell_type": "markdown",
   "id": "2a99e45a",
   "metadata": {},
   "source": [
    "### Training Model using OLS method"
   ]
  },
  {
   "cell_type": "code",
   "execution_count": 197,
   "id": "a19e9079",
   "metadata": {},
   "outputs": [
    {
     "name": "stdout",
     "output_type": "stream",
     "text": [
      "                            OLS Regression Results                            \n",
      "==============================================================================\n",
      "Dep. Variable:                Balance   R-squared:                       0.772\n",
      "Model:                            OLS   Adj. R-squared:                  0.764\n",
      "Method:                 Least Squares   F-statistic:                     94.99\n",
      "Date:                Sun, 30 Jul 2023   Prob (F-statistic):           4.77e-92\n",
      "Time:                        12:44:52   Log-Likelihood:                -2186.8\n",
      "No. Observations:                 320   AIC:                             4398.\n",
      "Df Residuals:                     308   BIC:                             4443.\n",
      "Df Model:                          11                                         \n",
      "Covariance Type:            nonrobust                                         \n",
      "==============================================================================================\n",
      "                                 coef    std err          t      P>|t|      [0.025      0.975]\n",
      "----------------------------------------------------------------------------------------------\n",
      "const                        481.7662     25.793     18.678      0.000     431.014     532.518\n",
      "Cards                         23.0454     13.318      1.730      0.085      -3.159      49.250\n",
      "Age                           -8.8916     13.157     -0.676      0.500     -34.781      16.998\n",
      "Education                     -7.7490     12.993     -0.596      0.551     -33.316      17.818\n",
      "Gender                        -7.1343     25.740     -0.277      0.782     -57.784      43.515\n",
      "Student                      358.9062     44.468      8.071      0.000     271.407     446.405\n",
      "Married                       16.9551     26.718      0.635      0.526     -35.618      69.529\n",
      "Income                      -112.5194     16.695     -6.740      0.000    -145.371     -79.668\n",
      "limit                        206.5374     71.949      2.871      0.004      64.964     348.111\n",
      "rating                       251.4952     71.709      3.507      0.001     110.393     392.597\n",
      "Ethnicity_African American    10.5871     13.763      0.769      0.442     -16.493      37.667\n",
      "Ethnicity_Asian              -12.7784     31.292     -0.408      0.683     -74.351      48.794\n",
      "==============================================================================\n",
      "Omnibus:                      156.696   Durbin-Watson:                   2.098\n",
      "Prob(Omnibus):                  0.000   Jarque-Bera (JB):             1419.015\n",
      "Skew:                           1.803   Prob(JB):                    7.33e-309\n",
      "Kurtosis:                      12.666   Cond. No.                         12.5\n",
      "==============================================================================\n",
      "\n",
      "Notes:\n",
      "[1] Standard Errors assume that the covariance matrix of the errors is correctly specified.\n"
     ]
    }
   ],
   "source": [
    "import statsmodels.api as sm\n",
    "\n",
    "# Add a constant column to the scaled training data\n",
    "X_train_scaled_const = sm.add_constant(X_train_scaled)\n",
    "\n",
    "# Create and fit the linear regression model using OLS (Ordinary Least Squares)\n",
    "model = sm.OLS(y_train, X_train_scaled_const)\n",
    "results = model.fit()\n",
    "\n",
    "# Print the summary of the model\n",
    "print(results.summary())\n",
    "\n",
    "# Add a constant column to the scaled test data\n",
    "X_test_scaled_const = sm.add_constant(X_test_scaled)\n",
    "\n",
    "# Make predictions on test data using the fitted model\n",
    "y_test_pred = results.predict(X_test_scaled_const)"
   ]
  },
  {
   "cell_type": "markdown",
   "id": "dba3bfcc",
   "metadata": {},
   "source": [
    "### Checking performance metrics on Train , Test and validation data"
   ]
  },
  {
   "cell_type": "code",
   "execution_count": 198,
   "id": "92f350cd",
   "metadata": {},
   "outputs": [
    {
     "name": "stdout",
     "output_type": "stream",
     "text": [
      "Training Set:\n",
      "MSE: 50490.21, RMSE: 224.70, R-squared: 0.77\n",
      "\n",
      "Test Set:\n",
      "MSE: 42391.99, RMSE: 205.89, R-squared: 0.75\n"
     ]
    }
   ],
   "source": [
    "from sklearn.metrics import mean_squared_error, r2_score\n",
    "\n",
    "# Calculate metrics for each model\n",
    "def evaluate_model(y_true, y_pred):\n",
    "    mse = mean_squared_error(y_true, y_pred)\n",
    "    rmse = np.sqrt(mse)\n",
    "    r2 = r2_score(y_true, y_pred)\n",
    "    return mse, rmse, r2\n",
    "\n",
    "# Evaluate the training set\n",
    "y_train_pred = results.predict(X_train_scaled_const)\n",
    "train_mse, train_rmse, train_r2 = evaluate_model(y_train, y_train_pred)\n",
    "\n",
    "# Evaluate the test set\n",
    "y_test_pred = results.predict(X_test_scaled_const)\n",
    "test_mse, test_rmse, test_r2 = evaluate_model(y_test, y_test_pred)\n",
    "\n",
    "# Print the results\n",
    "print(\"Training Set:\")\n",
    "print(f\"MSE: {train_mse:.2f}, RMSE: {train_rmse:.2f}, R-squared: {train_r2:.2f}\")\n",
    "\n",
    "print(\"\\nTest Set:\")\n",
    "print(f\"MSE: {test_mse:.2f}, RMSE: {test_rmse:.2f}, R-squared: {test_r2:.2f}\")\n"
   ]
  },
  {
   "cell_type": "markdown",
   "id": "ef4d38fa",
   "metadata": {},
   "source": [
    "### Checking VIF values for each feature for Better understanding of multicolinearity between Features "
   ]
  },
  {
   "cell_type": "code",
   "execution_count": 199,
   "id": "0b5a41eb",
   "metadata": {},
   "outputs": [
    {
     "name": "stdout",
     "output_type": "stream",
     "text": [
      "                       Feature         VIF\n",
      "0                        Cards    5.552901\n",
      "1                          Age   11.204489\n",
      "2                    Education   14.436909\n",
      "3                       Gender    1.927292\n",
      "4                      Student    1.134179\n",
      "5                      Married    2.608788\n",
      "6                       Income   34.010884\n",
      "7                        limit  227.689612\n",
      "8                       rating  270.644276\n",
      "9   Ethnicity_African American    1.503261\n",
      "10             Ethnicity_Asian    1.515290\n"
     ]
    }
   ],
   "source": [
    "from statsmodels.stats.outliers_influence import variance_inflation_factor\n",
    "\n",
    "# Assuming you have a DataFrame `X` containing your predictor variables\n",
    "\n",
    "vif_data = pd.DataFrame()\n",
    "vif_data['Feature'] = X.columns\n",
    "vif_data['VIF'] = [variance_inflation_factor(X.values, i)\n",
    "                   for i in range(X.shape[1])]\n",
    "\n",
    "print(vif_data)"
   ]
  },
  {
   "cell_type": "markdown",
   "id": "85ab81a0",
   "metadata": {},
   "source": [
    "### Model - 3\n",
    "#### Re-defining X and y after removing those features with high VIF"
   ]
  },
  {
   "cell_type": "code",
   "execution_count": 200,
   "id": "49edc57a",
   "metadata": {},
   "outputs": [],
   "source": [
    "X = df_encoded[['Cards', 'Age', 'Education', 'Gender', 'Student', 'Married',\n",
    "       'Income', 'limit', 'Ethnicity_African American',\n",
    "       'Ethnicity_Asian']]\n",
    "\n",
    "y = df_encoded['Balance']"
   ]
  },
  {
   "cell_type": "code",
   "execution_count": 201,
   "id": "b872bffd",
   "metadata": {},
   "outputs": [],
   "source": [
    "from sklearn.model_selection import train_test_split\n",
    "\n",
    "X_train, X_test, y_train, y_test = train_test_split(X,y, test_size=0.2, random_state=42)"
   ]
  },
  {
   "cell_type": "code",
   "execution_count": 202,
   "id": "8c891c15",
   "metadata": {},
   "outputs": [],
   "source": [
    "from sklearn.preprocessing import StandardScaler\n",
    "\n",
    "# Identify the binary columns and numerical columns\n",
    "binary_columns = ['Gender', 'Student', 'Married', 'Ethnicity_African_American', 'Ethnicity_Asian', 'Ethnicity_Caucasian']\n",
    "numerical_columns = [col for col in X_train.columns if col not in binary_columns]\n",
    "\n",
    "# Create a StandardScaler object\n",
    "scaler = StandardScaler()\n",
    "\n",
    "# Fit the scaler on the training data for the numerical columns and transform it\n",
    "X_train_scaled = X_train.copy()\n",
    "X_train_scaled[numerical_columns] = scaler.fit_transform(X_train[numerical_columns])\n",
    "\n",
    "\n",
    "X_test_scaled = X_test.copy()\n",
    "X_test_scaled[numerical_columns] = scaler.transform(X_test[numerical_columns])\n",
    "\n",
    "# Now, X_train_scaled, X_val_scaled, and X_test_scaled contain the scaled numerical features,\n",
    "# and the binary columns remain unchanged"
   ]
  },
  {
   "cell_type": "code",
   "execution_count": 203,
   "id": "dd831417",
   "metadata": {},
   "outputs": [
    {
     "name": "stdout",
     "output_type": "stream",
     "text": [
      "                            OLS Regression Results                            \n",
      "==============================================================================\n",
      "Dep. Variable:                Balance   R-squared:                       0.763\n",
      "Model:                            OLS   Adj. R-squared:                  0.756\n",
      "Method:                 Least Squares   F-statistic:                     99.62\n",
      "Date:                Sun, 30 Jul 2023   Prob (F-statistic):           1.83e-90\n",
      "Time:                        12:44:58   Log-Likelihood:                -2193.1\n",
      "No. Observations:                 320   AIC:                             4408.\n",
      "Df Residuals:                     309   BIC:                             4450.\n",
      "Df Model:                          10                                         \n",
      "Covariance Type:            nonrobust                                         \n",
      "==============================================================================================\n",
      "                                 coef    std err          t      P>|t|      [0.025      0.975]\n",
      "----------------------------------------------------------------------------------------------\n",
      "const                        478.5903     26.244     18.236      0.000     426.951     530.230\n",
      "Cards                         33.1955     13.235      2.508      0.013       7.154      59.237\n",
      "Age                           -4.3758     13.332     -0.328      0.743     -30.608      21.856\n",
      "Education                     -6.7061     13.225     -0.507      0.612     -32.729      19.317\n",
      "Gender                        -1.4058     26.154     -0.054      0.957     -52.868      50.057\n",
      "Student                      358.6039     45.273      7.921      0.000     269.521     447.687\n",
      "Married                       19.6170     27.191      0.721      0.471     -33.887      73.121\n",
      "Income                      -110.9703     16.992     -6.531      0.000    -144.405     -77.536\n",
      "limit                        452.1706     16.770     26.963      0.000     419.173     485.168\n",
      "Ethnicity_African American    12.3083     14.003      0.879      0.380     -15.245      39.862\n",
      "Ethnicity_Asian              -17.4504     31.830     -0.548      0.584     -80.081      45.180\n",
      "==============================================================================\n",
      "Omnibus:                      153.070   Durbin-Watson:                   2.108\n",
      "Prob(Omnibus):                  0.000   Jarque-Bera (JB):             1211.961\n",
      "Skew:                           1.800   Prob(JB):                    6.70e-264\n",
      "Kurtosis:                      11.828   Cond. No.                         4.77\n",
      "==============================================================================\n",
      "\n",
      "Notes:\n",
      "[1] Standard Errors assume that the covariance matrix of the errors is correctly specified.\n"
     ]
    }
   ],
   "source": [
    "import statsmodels.api as sm\n",
    "\n",
    "# Add a constant column to the scaled training data\n",
    "X_train_scaled_const = sm.add_constant(X_train_scaled)\n",
    "\n",
    "# Create and fit the linear regression model using OLS (Ordinary Least Squares)\n",
    "model = sm.OLS(y_train, X_train_scaled_const)\n",
    "results = model.fit()\n",
    "\n",
    "# Print the summary of the model\n",
    "print(results.summary())\n",
    "\n",
    "# Add a constant column to the scaled test data\n",
    "X_test_scaled_const = sm.add_constant(X_test_scaled)\n",
    "\n",
    "# Make predictions on test data using the fitted model\n",
    "y_test_pred = results.predict(X_test_scaled_const)"
   ]
  },
  {
   "cell_type": "code",
   "execution_count": 204,
   "id": "99cbdae2",
   "metadata": {},
   "outputs": [
    {
     "name": "stdout",
     "output_type": "stream",
     "text": [
      "Training Set:\n",
      "MSE: 52506.55, RMSE: 229.14, R-squared: 0.76\n",
      "\n",
      "Test Set:\n",
      "MSE: 43603.82, RMSE: 208.82, R-squared: 0.74\n"
     ]
    }
   ],
   "source": [
    "from sklearn.metrics import mean_squared_error, r2_score\n",
    "\n",
    "# Calculate metrics for each model\n",
    "def evaluate_model(y_true, y_pred):\n",
    "    mse = mean_squared_error(y_true, y_pred)\n",
    "    rmse = np.sqrt(mse)\n",
    "    r2 = r2_score(y_true, y_pred)\n",
    "    return mse, rmse, r2\n",
    "\n",
    "# Evaluate the training set\n",
    "y_train_pred = results.predict(X_train_scaled_const)\n",
    "train_mse, train_rmse, train_r2 = evaluate_model(y_train, y_train_pred)\n",
    "\n",
    "# Evaluate the test set\n",
    "y_test_pred = results.predict(X_test_scaled_const)\n",
    "test_mse, test_rmse, test_r2 = evaluate_model(y_test, y_test_pred)\n",
    "\n",
    "# Print the results\n",
    "print(\"Training Set:\")\n",
    "print(f\"MSE: {train_mse:.2f}, RMSE: {train_rmse:.2f}, R-squared: {train_r2:.2f}\")\n",
    "\n",
    "print(\"\\nTest Set:\")\n",
    "print(f\"MSE: {test_mse:.2f}, RMSE: {test_rmse:.2f}, R-squared: {test_r2:.2f}\")"
   ]
  },
  {
   "cell_type": "code",
   "execution_count": 205,
   "id": "8088be47",
   "metadata": {},
   "outputs": [
    {
     "name": "stdout",
     "output_type": "stream",
     "text": [
      "                      Feature        VIF\n",
      "0                       Cards   5.182202\n",
      "1                         Age  11.039159\n",
      "2                   Education  14.381148\n",
      "3                      Gender   1.917906\n",
      "4                     Student   1.133574\n",
      "5                     Married   2.602830\n",
      "6                      Income  33.783913\n",
      "7                       limit   9.925266\n",
      "8  Ethnicity_African American   1.501917\n",
      "9             Ethnicity_Asian   1.513183\n"
     ]
    }
   ],
   "source": [
    "from statsmodels.stats.outliers_influence import variance_inflation_factor\n",
    "\n",
    "# Assuming you have a DataFrame `X` containing your predictor variables\n",
    "\n",
    "vif_data = pd.DataFrame()\n",
    "vif_data['Feature'] = X.columns\n",
    "vif_data['VIF'] = [variance_inflation_factor(X.values, i)\n",
    "                   for i in range(X.shape[1])]\n",
    "\n",
    "print(vif_data)"
   ]
  },
  {
   "cell_type": "markdown",
   "id": "16cde76e",
   "metadata": {},
   "source": [
    "### Insight \n",
    "1. we can observe that accuracy remains constant betweeb model-1 and model-2 while it is reducing when going from model-2 to model three but model-2 having 2 features with VIF values of more than 220 while for model-1 VIF values for those features were 38 \n",
    "2. when we try to eliminate more features of high VIF values model accuracy started reducing\n",
    "\n",
    "### Action \n",
    "we are finalising model-1 as our final model since it has more number of features and less features having VIF value greater than 5"
   ]
  },
  {
   "cell_type": "markdown",
   "id": "8c43decc",
   "metadata": {},
   "source": [
    "## Final Model (which is Model-1 only)\n",
    "### defining X and Y"
   ]
  },
  {
   "cell_type": "code",
   "execution_count": 258,
   "id": "1d1f0a81",
   "metadata": {},
   "outputs": [],
   "source": [
    "X = df_encoded[['Cards','Age', 'Education',\n",
    "       'Income', 'limit', 'rating', 'Ethnicity_African American',\n",
    "       'Ethnicity_Asian', 'Ethnicity_Caucasian']]\n",
    "\n",
    "y = df_encoded['Balance']"
   ]
  },
  {
   "cell_type": "code",
   "execution_count": 259,
   "id": "56a7afe7",
   "metadata": {},
   "outputs": [],
   "source": [
    "from sklearn.model_selection import train_test_split\n",
    "\n",
    "X_train, X_test, y_train, y_test = train_test_split(X,y, test_size=0.2, random_state=42)"
   ]
  },
  {
   "cell_type": "code",
   "execution_count": 260,
   "id": "359c4d30",
   "metadata": {},
   "outputs": [],
   "source": [
    "from sklearn.preprocessing import StandardScaler\n",
    "\n",
    "# Identify the binary columns and numerical columns\n",
    "binary_columns = ['Gender', 'Student', 'Married', 'Ethnicity_African_American', 'Ethnicity_Asian', 'Ethnicity_Caucasian']\n",
    "numerical_columns = [col for col in X_train.columns if col not in binary_columns]\n",
    "\n",
    "# Create a StandardScaler object\n",
    "scaler = StandardScaler()\n",
    "\n",
    "# Fit the scaler on the training data for the numerical columns and transform it\n",
    "X_train_scaled = X_train.copy()\n",
    "X_train_scaled[numerical_columns] = scaler.fit_transform(X_train[numerical_columns])\n",
    "\n",
    "\n",
    "X_test_scaled = X_test.copy()\n",
    "X_test_scaled[numerical_columns] = scaler.transform(X_test[numerical_columns])\n",
    "\n",
    "# Now, X_train_scaled, X_val_scaled, and X_test_scaled contain the scaled numerical features,\n",
    "# and the binary columns remain unchanged"
   ]
  },
  {
   "cell_type": "code",
   "execution_count": 261,
   "id": "534b78d0",
   "metadata": {},
   "outputs": [
    {
     "name": "stdout",
     "output_type": "stream",
     "text": [
      "                            OLS Regression Results                            \n",
      "==============================================================================\n",
      "Dep. Variable:                Balance   R-squared:                       0.724\n",
      "Model:                            OLS   Adj. R-squared:                  0.717\n",
      "Method:                 Least Squares   F-statistic:                     101.9\n",
      "Date:                Sun, 30 Jul 2023   Prob (F-statistic):           3.03e-82\n",
      "Time:                        13:54:52   Log-Likelihood:                -2217.7\n",
      "No. Observations:                 320   AIC:                             4453.\n",
      "Df Residuals:                     311   BIC:                             4487.\n",
      "Df Model:                           8                                         \n",
      "Covariance Type:            nonrobust                                         \n",
      "==============================================================================================\n",
      "                                 coef    std err          t      P>|t|      [0.025      0.975]\n",
      "----------------------------------------------------------------------------------------------\n",
      "const                        414.7093     11.655     35.583      0.000     391.777     437.642\n",
      "Cards                         22.4486     14.589      1.539      0.125      -6.257      51.154\n",
      "Age                          -13.1857     14.343     -0.919      0.359     -41.407      15.036\n",
      "Education                      1.3822     14.154      0.098      0.922     -26.467      29.231\n",
      "Income                      -112.5003     18.280     -6.154      0.000    -148.469     -76.532\n",
      "limit                        214.1440     78.649      2.723      0.007      59.393     368.895\n",
      "rating                       247.2052     78.397      3.153      0.002      92.950     401.460\n",
      "Ethnicity_African American    70.7588     13.361      5.296      0.000      44.469      97.048\n",
      "Ethnicity_Asian              139.7577     19.071      7.328      0.000     102.232     177.283\n",
      "Ethnicity_Caucasian          139.2123     16.285      8.548      0.000     107.169     171.256\n",
      "==============================================================================\n",
      "Omnibus:                      115.676   Durbin-Watson:                   2.082\n",
      "Prob(Omnibus):                  0.000   Jarque-Bera (JB):              557.856\n",
      "Skew:                           1.442   Prob(JB):                    7.30e-122\n",
      "Kurtosis:                       8.789   Cond. No.                     5.90e+15\n",
      "==============================================================================\n",
      "\n",
      "Notes:\n",
      "[1] Standard Errors assume that the covariance matrix of the errors is correctly specified.\n",
      "[2] The smallest eigenvalue is 2.32e-29. This might indicate that there are\n",
      "strong multicollinearity problems or that the design matrix is singular.\n"
     ]
    }
   ],
   "source": [
    "import statsmodels.api as sm\n",
    "\n",
    "# Add a constant column to the scaled training data\n",
    "X_train_scaled_const = sm.add_constant(X_train_scaled)\n",
    "\n",
    "# Create and fit the linear regression model using OLS (Ordinary Least Squares)\n",
    "model = sm.OLS(y_train, X_train_scaled_const)\n",
    "results = model.fit()\n",
    "\n",
    "# Print the summary of the model\n",
    "print(results.summary())\n",
    "\n",
    "# Add a constant column to the scaled test data\n",
    "X_test_scaled_const = sm.add_constant(X_test_scaled)\n",
    "\n",
    "# Make predictions on test data using the fitted model\n",
    "y_test_pred = results.predict(X_test_scaled_const)"
   ]
  },
  {
   "cell_type": "markdown",
   "id": "ffc2feea",
   "metadata": {},
   "source": [
    "### getting weights for each features"
   ]
  },
  {
   "cell_type": "code",
   "execution_count": 272,
   "id": "bc818d3e",
   "metadata": {},
   "outputs": [
    {
     "data": {
      "text/html": [
       "<div>\n",
       "<style scoped>\n",
       "    .dataframe tbody tr th:only-of-type {\n",
       "        vertical-align: middle;\n",
       "    }\n",
       "\n",
       "    .dataframe tbody tr th {\n",
       "        vertical-align: top;\n",
       "    }\n",
       "\n",
       "    .dataframe thead th {\n",
       "        text-align: right;\n",
       "    }\n",
       "</style>\n",
       "<table border=\"1\" class=\"dataframe\">\n",
       "  <thead>\n",
       "    <tr style=\"text-align: right;\">\n",
       "      <th></th>\n",
       "      <th>Weight</th>\n",
       "    </tr>\n",
       "    <tr>\n",
       "      <th>Feature</th>\n",
       "      <th></th>\n",
       "    </tr>\n",
       "  </thead>\n",
       "  <tbody>\n",
       "    <tr>\n",
       "      <th>const</th>\n",
       "      <td>414.709348</td>\n",
       "    </tr>\n",
       "    <tr>\n",
       "      <th>Cards</th>\n",
       "      <td>22.448601</td>\n",
       "    </tr>\n",
       "    <tr>\n",
       "      <th>Age</th>\n",
       "      <td>-13.185720</td>\n",
       "    </tr>\n",
       "    <tr>\n",
       "      <th>Education</th>\n",
       "      <td>1.382206</td>\n",
       "    </tr>\n",
       "    <tr>\n",
       "      <th>Income</th>\n",
       "      <td>-112.500317</td>\n",
       "    </tr>\n",
       "    <tr>\n",
       "      <th>limit</th>\n",
       "      <td>214.143986</td>\n",
       "    </tr>\n",
       "    <tr>\n",
       "      <th>rating</th>\n",
       "      <td>247.205154</td>\n",
       "    </tr>\n",
       "    <tr>\n",
       "      <th>Ethnicity_African American</th>\n",
       "      <td>70.758785</td>\n",
       "    </tr>\n",
       "    <tr>\n",
       "      <th>Ethnicity_Asian</th>\n",
       "      <td>139.757663</td>\n",
       "    </tr>\n",
       "    <tr>\n",
       "      <th>Ethnicity_Caucasian</th>\n",
       "      <td>139.212324</td>\n",
       "    </tr>\n",
       "  </tbody>\n",
       "</table>\n",
       "</div>"
      ],
      "text/plain": [
       "                                Weight\n",
       "Feature                               \n",
       "const                       414.709348\n",
       "Cards                        22.448601\n",
       "Age                         -13.185720\n",
       "Education                     1.382206\n",
       "Income                     -112.500317\n",
       "limit                       214.143986\n",
       "rating                      247.205154\n",
       "Ethnicity_African American   70.758785\n",
       "Ethnicity_Asian             139.757663\n",
       "Ethnicity_Caucasian         139.212324"
      ]
     },
     "execution_count": 272,
     "metadata": {},
     "output_type": "execute_result"
    }
   ],
   "source": [
    "weights = pd.DataFrame(results.params,columns=['Weight'])\n",
    "weights.index.name = 'Feature'\n",
    "weights"
   ]
  },
  {
   "cell_type": "markdown",
   "id": "8b3c604e",
   "metadata": {},
   "source": [
    "### The equation of linear regression line is given by \n",
    "Balance = 414.709348 + 22.448601 * Cards - 13.185720 * Age + 1.382206 * Education - 112.500317 * Income + 214.143986 * limit + 247.205154 * rating + 70.758785 * Ethnicity_African American + 139.757663 * Ethnicity_Asian + 139.212324 * Ethnicity_Caucasian"
   ]
  },
  {
   "cell_type": "markdown",
   "id": "e39fbeee",
   "metadata": {},
   "source": [
    "<!-- ### Insight \n",
    "VIF values might be on higher side for few features but there p-values are less than 0.05 swhich signify that they are useful features and cant be eliminated \n",
    "                    Feature  VIF value   P-value\n",
    "                      limit  36.190627   0.004\n",
    "                     rating  35.878479   0.001\n",
    " Ethnicity_African American  19.750773   0.000\n",
    "            Ethnicity_Asian  20.003000   0.000\n",
    "        Ethnicity_Caucasian  38.255280   0.000 -->"
   ]
  },
  {
   "cell_type": "code",
   "execution_count": 263,
   "id": "3b966b22",
   "metadata": {},
   "outputs": [
    {
     "name": "stdout",
     "output_type": "stream",
     "text": [
      "Training Set:\n",
      "MSE: 61235.22, RMSE: 247.46, R-squared: 0.72\n",
      "\n",
      "Test Set:\n",
      "MSE: 56766.41, RMSE: 238.26, R-squared: 0.66\n"
     ]
    }
   ],
   "source": [
    "from sklearn.metrics import mean_squared_error, r2_score\n",
    "\n",
    "# Calculate metrics for each model\n",
    "def evaluate_model(y_true, y_pred):\n",
    "    mse = mean_squared_error(y_true, y_pred)\n",
    "    rmse = np.sqrt(mse)\n",
    "    r2 = r2_score(y_true, y_pred)\n",
    "    return mse, rmse, r2\n",
    "\n",
    "# Evaluate the training set\n",
    "y_train_pred = results.predict(X_train_scaled_const)\n",
    "train_mse, train_rmse, train_r2 = evaluate_model(y_train, y_train_pred)\n",
    "\n",
    "# Evaluate the test set\n",
    "y_test_pred = results.predict(X_test_scaled_const)\n",
    "test_mse, test_rmse, test_r2 = evaluate_model(y_test, y_test_pred)\n",
    "\n",
    "# Print the results\n",
    "print(\"Training Set:\")\n",
    "print(f\"MSE: {train_mse:.2f}, RMSE: {train_rmse:.2f}, R-squared: {train_r2:.2f}\")\n",
    "\n",
    "print(\"\\nTest Set:\")\n",
    "print(f\"MSE: {test_mse:.2f}, RMSE: {test_rmse:.2f}, R-squared: {test_r2:.2f}\")"
   ]
  },
  {
   "cell_type": "code",
   "execution_count": 264,
   "id": "9042eee6",
   "metadata": {},
   "outputs": [
    {
     "data": {
      "image/png": "[encoded data removed]",
      "text/plain": [
       "<Figure size 1080x720 with 2 Axes>"
      ]
     },
     "metadata": {
      "needs_background": "light"
     },
     "output_type": "display_data"
    }
   ],
   "source": [
    "plt.figure(figsize = (15,10))\n",
    "\n",
    "# Training set plot\n",
    "plt.subplot(1, 2, 1)\n",
    "plt.scatter(y_train, y_train_pred)\n",
    "plt.plot([min(y_train), max(y_train)], [min(y_train), max(y_train)], '--', color='red', label='Prediction')\n",
    "plt.xlabel('True Values')\n",
    "plt.ylabel('Predicted Values')\n",
    "plt.title('Training Set: True vs. Predicted Values')\n",
    "plt.legend()\n",
    "\n",
    "# Test set plot\n",
    "plt.subplot(1, 2, 2)\n",
    "plt.scatter(y_test, y_test_pred)\n",
    "plt.plot([min(y_test), max(y_test)], [min(y_test), max(y_test)], '--', color='red', label='Prediction')\n",
    "plt.xlabel('True Values')\n",
    "plt.ylabel('Predicted Values')\n",
    "plt.title('Test Set: True vs. Predicted Values')\n",
    "plt.legend()\n",
    "\n",
    "plt.tight_layout()\n",
    "plt.show()"
   ]
  },
  {
   "cell_type": "code",
   "execution_count": 265,
   "id": "a9e1d7f8",
   "metadata": {},
   "outputs": [
    {
     "data": {
      "image/png": "[encoded data removed]",
      "text/plain": [
       "<Figure size 720x432 with 1 Axes>"
      ]
     },
     "metadata": {
      "needs_background": "light"
     },
     "output_type": "display_data"
    }
   ],
   "source": [
    "# Create a DataFrame to store feature names and corresponding coefficients\n",
    "coefficients_df = pd.DataFrame({'Feature': X.columns, 'Coefficient': results.params[1:]})\n",
    "\n",
    "# Sort the DataFrame by absolute values of coefficients in descending order\n",
    "coefficients_df['Abs_Coefficient'] = np.abs(coefficients_df['Coefficient'])\n",
    "coefficients_df = coefficients_df.sort_values('Abs_Coefficient', ascending=False)\n",
    "\n",
    "# Plot feature importance using a bar chart\n",
    "plt.figure(figsize=(10, 6))\n",
    "plt.bar(coefficients_df['Feature'], coefficients_df['Abs_Coefficient'], color='skyblue')\n",
    "plt.xlabel('Feature')\n",
    "plt.ylabel('Absolute Coefficient')\n",
    "plt.title('Feature Importance in Linear Regression')\n",
    "plt.xticks(rotation=90)\n",
    "plt.show()"
   ]
  },
  {
   "cell_type": "markdown",
   "id": "1d98db2a",
   "metadata": {},
   "source": [
    "### Checking for Linear Regression assumptions \n",
    "#### 1. Mean of residuals is nearly zero\n",
    "This assumption states that the mean of the residuals (or errors) should be close to zero"
   ]
  },
  {
   "cell_type": "code",
   "execution_count": 266,
   "id": "48d397f8",
   "metadata": {},
   "outputs": [
    {
     "data": {
      "image/png": "[encoded data removed]",
      "text/plain": [
       "<Figure size 1080x432 with 2 Axes>"
      ]
     },
     "metadata": {
      "needs_background": "light"
     },
     "output_type": "display_data"
    }
   ],
   "source": [
    "plt.figure(figsize=(15, 6))\n",
    "# Traint set plot\n",
    "plt.subplot(1, 2, 1)\n",
    "plt.scatter(y_train_pred, residuals, alpha=0.6)\n",
    "plt.axhline(y=0, color='red', linestyle='--', label='Mean of Residuals')\n",
    "plt.xlabel('Predicted Values')\n",
    "plt.ylabel('Residuals')\n",
    "plt.title(' Mean of residuals for train data')\n",
    "plt.legend()\n",
    "\n",
    "plt.subplot(1, 2, 2)\n",
    "plt.scatter(y_test_pred, residuals_test, alpha=0.6)\n",
    "plt.axhline(y=0, color='red', linestyle='--', label='Mean of Residuals')\n",
    "plt.xlabel('Predicted Values')\n",
    "plt.ylabel('Residuals')\n",
    "plt.title(' Mean of residuals for test data')\n",
    "plt.legend()\n",
    "\n",
    "\n",
    "plt.tight_layout()\n",
    "plt.show()"
   ]
  },
  {
   "cell_type": "markdown",
   "id": "2cdb0351",
   "metadata": {},
   "source": [
    "#### Normality of residuals\n",
    "This assumption states that the residuals should follow a normal distribution. In linear regression, it is assumed that the errors are normally distributed with a mean of zero and constant variance (homoscedasticity)"
   ]
  },
  {
   "cell_type": "code",
   "execution_count": 267,
   "id": "d571a345",
   "metadata": {},
   "outputs": [
    {
     "data": {
      "image/png": "[encoded data removed]",
      "text/plain": [
       "<Figure size 1080x432 with 2 Axes>"
      ]
     },
     "metadata": {
      "needs_background": "light"
     },
     "output_type": "display_data"
    }
   ],
   "source": [
    "# Calculate the residuals\n",
    "residuals = y_train - y_train_pred\n",
    "residuals_test = y_test - y_test_pred\n",
    "\n",
    "plt.figure(figsize=(15, 6))\n",
    "plt.subplot(1, 2, 1)\n",
    "sns.distplot(residuals)\n",
    "plt.xlabel('Residuals')\n",
    "plt.ylabel('Frequency')\n",
    "plt.title('Histogram of Residuals train data')\n",
    "\n",
    "\n",
    "# Test set plot\n",
    "plt.subplot(1, 2, 2)\n",
    "sns.distplot(residuals_test)\n",
    "plt.xlabel('Residuals')\n",
    "plt.ylabel('Frequency')\n",
    "plt.title('Histogram of Residuals test data')\n",
    "\n",
    "\n",
    "plt.tight_layout()\n",
    "plt.show()\n",
    "\n",
    "# Plot histogram of residuals\n"
   ]
  },
  {
   "cell_type": "markdown",
   "id": "09112246",
   "metadata": {},
   "source": [
    "### Test for Muticolinearity"
   ]
  },
  {
   "cell_type": "code",
   "execution_count": 262,
   "id": "2b77234c",
   "metadata": {},
   "outputs": [
    {
     "name": "stdout",
     "output_type": "stream",
     "text": [
      "                      Feature        VIF\n",
      "0                       Cards   1.066872\n",
      "1                         Age   1.039137\n",
      "2                   Education   1.008460\n",
      "3                      Income   1.655803\n",
      "4                       limit  36.006385\n",
      "5                      rating  35.685778\n",
      "6  Ethnicity_African American  19.268841\n",
      "7             Ethnicity_Asian  19.318023\n",
      "8         Ethnicity_Caucasian  37.099296\n"
     ]
    }
   ],
   "source": [
    "from statsmodels.stats.outliers_influence import variance_inflation_factor\n",
    "\n",
    "# Assuming you have a DataFrame `X` containing your predictor variables\n",
    "\n",
    "vif_data = pd.DataFrame()\n",
    "vif_data['Feature'] = X.columns\n",
    "vif_data['VIF'] = [variance_inflation_factor(X.values, i)\n",
    "                   for i in range(X.shape[1])]\n",
    "\n",
    "print(vif_data)"
   ]
  },
  {
   "cell_type": "markdown",
   "id": "deefa238",
   "metadata": {},
   "source": [
    "<!-- ### VIF value look high for few features but there respective P-value are very low which signifies their importance in our model\n",
    "Feature                      P-Value\n",
    "limit                         0.007  \n",
    "rating                        0.002      \n",
    "Ethnicity_African American    0.000      \n",
    "Ethnicity_Asian               0.000     \n",
    "Ethnicity_Caucasian           0.000      -->"
   ]
  },
  {
   "cell_type": "code",
   "execution_count": 274,
   "id": "829434f3",
   "metadata": {},
   "outputs": [],
   "source": [
    "# There VIF value is high but P-Values are very very low which shows that these features are important\n",
    "#     Feature                     VIF Value        P-Value\n",
    "#     limit                       36.006385        0.007             \n",
    "#     rating                      35.685778        0.002\n",
    "#     Ethnicity_African American  19.268841        0.000 \n",
    "#     Ethnicity_Asian             19.318023        0.000\n",
    "#     Ethnicity_Caucasian         37.099296        0.000"
   ]
  },
  {
   "cell_type": "code",
   "execution_count": 275,
   "id": "72237021",
   "metadata": {},
   "outputs": [],
   "source": [
    "# <!--  Comments on Model \n",
    "#  it has features with high multicolinearity but removing them was not increasing its performance\n",
    "#  data was very less for training such model \n",
    "#  Mean of residuals is nearly zero doesnt hold nicly in this model  -->"
   ]
  },
  {
   "cell_type": "code",
   "execution_count": null,
   "id": "f3f3cc60",
   "metadata": {},
   "outputs": [],
   "source": []
  }
 ],
 "metadata": {
  "kernelspec": {
   "display_name": "Python 3 (ipykernel)",
   "language": "python",
   "name": "python3"
  },
  "language_info": {
   "codemirror_mode": {
    "name": "ipython",
    "version": 3
   },
   "file_extension": ".py",
   "mimetype": "text/x-python",
   "name": "python",
   "nbconvert_exporter": "python",
   "pygments_lexer": "ipython3",
   "version": "3.9.12"
  }
 },
 "nbformat": 4,
 "nbformat_minor": 5
}
